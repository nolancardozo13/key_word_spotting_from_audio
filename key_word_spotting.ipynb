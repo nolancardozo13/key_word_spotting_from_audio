{
 "cells": [
  {
   "cell_type": "code",
   "execution_count": null,
   "metadata": {},
   "outputs": [],
   "source": [
    "# import libraries\n",
    "from os import listdir\n",
    "from os.path import isdir, join\n",
    "import librosa\n",
    "import librosa.display\n",
    "import random\n",
    "import numpy as np\n",
    "import pandas as pd\n",
    "import seaborn as sn\n",
    "import matplotlib.pyplot as plt\n",
    "#!pip install  python_speech_features\n",
    "import python_speech_features\n",
    "from sklearn.metrics import classification_report,confusion_matrix\n",
    "import tensorflow as tf\n",
    "from tensorflow.keras import layers, models\n",
    "from tensorflow.keras.optimizers import Adam\n",
    "from tensorflow.keras.callbacks import EarlyStopping, ModelCheckpoint\n",
    "from tensorflow.keras.applications  import VGG16,MobileNet\n",
    "from tensorflow.keras.utils import to_categorical\n",
    "import cv2\n",
    "print(tf.__version__)\n",
    "physical_devices = tf.config.experimental.list_physical_devices('GPU')\n",
    "assert len(physical_devices) > 0, \"Not enough GPU hardware devices available\"\n",
    "config = tf.config.experimental.set_memory_growth(physical_devices[0], True)"
   ]
  },
  {
   "cell_type": "code",
   "execution_count": 2,
   "metadata": {},
   "outputs": [],
   "source": [
    "# Dataset path and view possible targets\n",
    "dataset_path = 'data'"
   ]
  },
  {
   "cell_type": "code",
   "execution_count": 3,
   "metadata": {},
   "outputs": [],
   "source": [
    "# Create an all targets list\n",
    "all_targets = [name for name in listdir(dataset_path) if isdir(join(dataset_path, name))]"
   ]
  },
  {
   "cell_type": "code",
   "execution_count": 4,
   "metadata": {},
   "outputs": [],
   "source": [
    "# Leave off background noise set\n",
    "all_targets.remove('_background_noise_')"
   ]
  },
  {
   "cell_type": "code",
   "execution_count": 5,
   "metadata": {},
   "outputs": [
    {
     "name": "stdout",
     "output_type": "stream",
     "text": [
      "Total samples: 105829\n"
     ]
    }
   ],
   "source": [
    "# See how many files are in each\n",
    "num_samples = 0\n",
    "for target in all_targets:\n",
    "    num_samples += len(listdir(join(dataset_path, target)))\n",
    "print('Total samples:', num_samples)"
   ]
  },
  {
   "cell_type": "code",
   "execution_count": 6,
   "metadata": {},
   "outputs": [],
   "source": [
    "# Settings\n",
    "target_list = all_targets\n",
    "feature_sets_file = 'all_targets_mfcc_sets.npz'\n",
    "perc_keep_samples = 1.0 # 1.0 is keep all samples\n",
    "val_ratio = 0.1\n",
    "test_ratio = 0.1\n",
    "sample_rate = 8000\n",
    "num_mfcc = 16\n",
    "len_mfcc = 16"
   ]
  },
  {
   "cell_type": "code",
   "execution_count": 7,
   "metadata": {},
   "outputs": [],
   "source": [
    "# Create list of filenames along with ground truth vector (y)\n",
    "filenames = []\n",
    "y = []\n",
    "for index, target in enumerate(target_list):\n",
    "    filenames.append(listdir(join(dataset_path, target)))\n",
    "    y.append(np.ones(len(filenames[index])) * index)"
   ]
  },
  {
   "cell_type": "code",
   "execution_count": 8,
   "metadata": {},
   "outputs": [],
   "source": [
    "# Flatten filename and y vectors\n",
    "filenames = [item for sublist in filenames for item in sublist]\n",
    "y = [item for sublist in y for item in sublist]"
   ]
  },
  {
   "cell_type": "code",
   "execution_count": 9,
   "metadata": {},
   "outputs": [],
   "source": [
    "# Associate filenames with true output and shuffle\n",
    "filenames_y = list(zip(filenames, y))\n",
    "random.shuffle(filenames_y)\n",
    "filenames, y = zip(*filenames_y)"
   ]
  },
  {
   "cell_type": "code",
   "execution_count": 10,
   "metadata": {},
   "outputs": [
    {
     "name": "stdout",
     "output_type": "stream",
     "text": [
      "105829\n",
      "105829\n"
     ]
    }
   ],
   "source": [
    "# Only keep the specified number of samples (shorter extraction/training) use 100% by default\n",
    "print(len(filenames))\n",
    "filenames = filenames[:int(len(filenames) * perc_keep_samples)]\n",
    "print(len(filenames))"
   ]
  },
  {
   "cell_type": "code",
   "execution_count": 11,
   "metadata": {},
   "outputs": [],
   "source": [
    "# Calculate validation and test set sizes\n",
    "val_set_size = int(len(filenames) * val_ratio)\n",
    "test_set_size = int(len(filenames) * test_ratio)"
   ]
  },
  {
   "cell_type": "code",
   "execution_count": 12,
   "metadata": {},
   "outputs": [],
   "source": [
    "# Break dataset apart into train, validation, and test sets\n",
    "filenames_val = filenames[:val_set_size]\n",
    "filenames_test = filenames[val_set_size:(val_set_size + test_set_size)]\n",
    "filenames_train = filenames[(val_set_size + test_set_size):]"
   ]
  },
  {
   "cell_type": "code",
   "execution_count": 13,
   "metadata": {},
   "outputs": [],
   "source": [
    "\n",
    "# Break y apart into train, validation, and test sets\n",
    "y_orig_val = y[:val_set_size]\n",
    "y_orig_test = y[val_set_size:(val_set_size + test_set_size)]\n",
    "y_orig_train = y[(val_set_size + test_set_size):]\n"
   ]
  },
  {
   "cell_type": "code",
   "execution_count": 14,
   "metadata": {},
   "outputs": [],
   "source": [
    "\n",
    "# Function: Create MFCC from given path\n",
    "def calc_mfcc(path):\n",
    "    \n",
    "    # Load wavefile\n",
    "    signal, fs = librosa.load(path, sr=sample_rate)\n",
    "    \n",
    "    # Create MFCCs from sound clip\n",
    "    mfccs = python_speech_features.base.mfcc(signal, \n",
    "                                            samplerate=fs,\n",
    "                                            winlen=0.256,\n",
    "                                            winstep=0.050,\n",
    "                                            numcep=num_mfcc,\n",
    "                                            nfilt=26,\n",
    "                                            nfft=2048,\n",
    "                                            preemph=0.0,\n",
    "                                            ceplifter=0,\n",
    "                                            appendEnergy=False,\n",
    "                                            winfunc=np.hanning)\n",
    "    return mfccs.transpose()"
   ]
  },
  {
   "cell_type": "code",
   "execution_count": 15,
   "metadata": {},
   "outputs": [
    {
     "name": "stdout",
     "output_type": "stream",
     "text": [
      "go\n"
     ]
    },
    {
     "data": {
      "image/png": "[encoded data removed]",
      "text/plain": [
       "<Figure size 432x288 with 1 Axes>"
      ]
     },
     "metadata": {
      "needs_background": "light"
     },
     "output_type": "display_data"
    }
   ],
   "source": [
    "# TEST: Test shorter MFCC\n",
    "#!pip install playsound\n",
    "from playsound import playsound\n",
    "\n",
    "idx = 240\n",
    "\n",
    "# Create path from given filename and target item\n",
    "path = join(dataset_path, target_list[int(y_orig_train[idx])], \n",
    "            filenames_train[idx])\n",
    "\n",
    "# Create MFCCs\n",
    "mfccs = calc_mfcc(path)\n",
    "\n",
    "fig = plt.figure()\n",
    "# Plot signal \n",
    "#signal, fs = librosa.load(path, sr=sample_rate)\n",
    "#librosa.display.waveplot(signal,fs)\n",
    "\n",
    "# Plot MFCC\n",
    "plt.imshow(mfccs, cmap='orange', origin='lower')\n",
    "\n",
    "# TEST: Play problem sounds\n",
    "print(target_list[int(y_orig_train[idx])])\n",
    "playsound(path)"
   ]
  },
  {
   "cell_type": "code",
   "execution_count": 16,
   "metadata": {},
   "outputs": [],
   "source": [
    "# Function: Create MFCCs, keeping only ones of desired length\n",
    "def extract_features(in_files, in_y):\n",
    "    prob_cnt = 0\n",
    "    out_x = []\n",
    "    out_y = []\n",
    "        \n",
    "    for index, filename in enumerate(in_files):\n",
    "    \n",
    "        # Create path from given filename and target item\n",
    "        path = join(dataset_path, target_list[int(in_y[index])], \n",
    "                    filename)\n",
    "        \n",
    "        # Check to make sure we're reading a .wav file\n",
    "        if not path.endswith('.wav'):\n",
    "            continue\n",
    "\n",
    "        # Create MFCCs\n",
    "        mfccs = calc_mfcc(path)\n",
    "\n",
    "        # Only keep MFCCs with given length\n",
    "        if mfccs.shape[1] == len_mfcc:\n",
    "            out_x.append(mfccs)\n",
    "            out_y.append(in_y[index])\n",
    "        else:\n",
    "            prob_cnt += 1\n",
    "            \n",
    "    return out_x, out_y, prob_cnt"
   ]
  },
  {
   "cell_type": "code",
   "execution_count": 17,
   "metadata": {},
   "outputs": [
    {
     "name": "stdout",
     "output_type": "stream",
     "text": [
      "Removed percentage: 0.08462765015059352\n",
      "Removed percentage: 0.0841995841995842\n",
      "Removed percentage: 0.08665658665658665\n"
     ]
    }
   ],
   "source": [
    "# Create train, validation, and test sets\n",
    "x_train, y_train, prob = extract_features(filenames_train, y_orig_train)\n",
    "print('Removed percentage:', prob / len(y_orig_train))\n",
    "x_val, y_val, prob = extract_features(filenames_val, y_orig_val)\n",
    "print('Removed percentage:', prob / len(y_orig_val))\n",
    "x_test, y_test, prob = extract_features(filenames_test, y_orig_test)\n",
    "print('Removed percentage:', prob / len(y_orig_test))"
   ]
  },
  {
   "cell_type": "code",
   "execution_count": 18,
   "metadata": {},
   "outputs": [],
   "source": [
    "# Save features and truth vector (y) sets to disk\n",
    "np.savez(feature_sets_file, \n",
    "         x_train=x_train, \n",
    "         y_train=y_train, \n",
    "         x_val=x_val, \n",
    "         y_val=y_val, \n",
    "         x_test=x_test, \n",
    "         y_test=y_test)"
   ]
  },
  {
   "cell_type": "markdown",
   "metadata": {},
   "source": [
    "# Load saved mfcc"
   ]
  },
  {
   "cell_type": "code",
   "execution_count": 19,
   "metadata": {},
   "outputs": [],
   "source": [
    "# Settings\n",
    "feature_sets_filename = 'all_targets_mfcc_sets.npz'\n",
    "\n",
    "# Load feature sets\n",
    "feature_sets = np.load(join(feature_sets_filename))"
   ]
  },
  {
   "cell_type": "code",
   "execution_count": 20,
   "metadata": {},
   "outputs": [],
   "source": [
    "# Assign feature sets\n",
    "x_train = feature_sets['x_train']\n",
    "y_train = feature_sets['y_train']\n",
    "x_val = feature_sets['x_val']\n",
    "y_val = feature_sets['y_val']\n",
    "x_test = feature_sets['x_test']\n",
    "y_test = feature_sets['y_test']"
   ]
  },
  {
   "cell_type": "code",
   "execution_count": 21,
   "metadata": {},
   "outputs": [
    {
     "name": "stdout",
     "output_type": "stream",
     "text": [
      "(77500, 16, 16)\n",
      "(9691, 16, 16)\n",
      "(9665, 16, 16)\n"
     ]
    }
   ],
   "source": [
    "# Look at tensor dimensions\n",
    "print(x_train.shape)\n",
    "print(x_val.shape)\n",
    "print(x_test.shape)"
   ]
  },
  {
   "cell_type": "code",
   "execution_count": 22,
   "metadata": {},
   "outputs": [],
   "source": [
    "def convert_commands(data,commands,all_targets):\n",
    "    new_data = np.zeros(len(data))\n",
    "    for i in range(len(data)):\n",
    "        for j in commands:\n",
    "            if all_targets[int(data[i])] == j:\n",
    "                new_data[i] = commands.index(j)+1\n",
    "    return new_data"
   ]
  },
  {
   "cell_type": "code",
   "execution_count": 23,
   "metadata": {},
   "outputs": [],
   "source": [
    "commands = [\"forward\", \"backward\", \"up\", \"down\", \"yes\", \"no\",\"on\", \"off\", \"right\", \"left\", \"go\",\"stop\"]\n",
    "y_train = convert_commands(y_train,commands,all_targets)\n",
    "y_val = convert_commands(y_val,commands,all_targets)\n",
    "y_test = convert_commands(y_test,commands,all_targets)"
   ]
  },
  {
   "cell_type": "code",
   "execution_count": 24,
   "metadata": {},
   "outputs": [
    {
     "name": "stdout",
     "output_type": "stream",
     "text": [
      "(77500, 16, 16, 1)\n",
      "(9691, 16, 16, 1)\n",
      "(9665, 16, 16, 1)\n"
     ]
    }
   ],
   "source": [
    "x_train = x_train[:,:,:, np.newaxis]\n",
    "x_val = x_val[:, :,:, np.newaxis]\n",
    "x_test = x_test[:,:,:, np.newaxis]\n",
    "\n",
    "print(x_train.shape)\n",
    "print(x_val.shape)\n",
    "print(x_test.shape)"
   ]
  },
  {
   "cell_type": "code",
   "execution_count": 25,
   "metadata": {},
   "outputs": [
    {
     "name": "stdout",
     "output_type": "stream",
     "text": [
      "(77500, 13)\n",
      "(9691, 13)\n",
      "(9665, 13)\n"
     ]
    }
   ],
   "source": [
    "y_train = to_categorical(y_train,13)\n",
    "y_val = to_categorical(y_val,13)\n",
    "y_test = to_categorical(y_test,13)\n",
    "print(y_train.shape)\n",
    "print(y_val.shape)\n",
    "print(y_test.shape)"
   ]
  },
  {
   "cell_type": "markdown",
   "metadata": {},
   "source": [
    "# Single Layer perceptron"
   ]
  },
  {
   "cell_type": "code",
   "execution_count": 26,
   "metadata": {},
   "outputs": [
    {
     "name": "stdout",
     "output_type": "stream",
     "text": [
      "(77500, 256)\n",
      "(9665, 256)\n"
     ]
    }
   ],
   "source": [
    "x_train_flat = x_train.reshape((len(x_train), np.prod(x_train.shape[1:])))\n",
    "x_val_flat = x_val.reshape((len(x_val), np.prod(x_val.shape[1:])))\n",
    "x_test_flat = x_test.reshape((len(x_test), np.prod(x_test.shape[1:])))\n",
    "print(x_train_flat.shape)\n",
    "print(x_test_flat.shape)"
   ]
  },
  {
   "cell_type": "code",
   "execution_count": 27,
   "metadata": {},
   "outputs": [],
   "source": [
    "slp = models.Sequential([\n",
    "  layers.Dense(13, activation='softmax'),\n",
    "])"
   ]
  },
  {
   "cell_type": "code",
   "execution_count": 28,
   "metadata": {
    "scrolled": true
   },
   "outputs": [
    {
     "name": "stdout",
     "output_type": "stream",
     "text": [
      "Epoch 1/9999\n",
      "303/303 [==============================] - 1s 2ms/step - loss: 3.9137 - acc: 0.4628 - val_loss: 1.8895 - val_acc: 0.5397\n",
      "Epoch 2/9999\n",
      "303/303 [==============================] - 1s 2ms/step - loss: 1.6595 - acc: 0.5629 - val_loss: 1.4925 - val_acc: 0.5773\n",
      "Epoch 3/9999\n",
      "303/303 [==============================] - 1s 2ms/step - loss: 1.4295 - acc: 0.5915 - val_loss: 1.3897 - val_acc: 0.5940\n",
      "Epoch 4/9999\n",
      "303/303 [==============================] - ETA: 0s - loss: 1.3549 - acc: 0.603 - 1s 2ms/step - loss: 1.3490 - acc: 0.6040 - val_loss: 1.3265 - val_acc: 0.6115\n",
      "Epoch 5/9999\n",
      "303/303 [==============================] - 1s 2ms/step - loss: 1.3071 - acc: 0.6120 - val_loss: 1.3208 - val_acc: 0.6154\n",
      "Epoch 6/9999\n",
      "303/303 [==============================] - 1s 2ms/step - loss: 1.2859 - acc: 0.6173 - val_loss: 1.2966 - val_acc: 0.6222\n",
      "Epoch 7/9999\n",
      "303/303 [==============================] - 1s 2ms/step - loss: 1.2709 - acc: 0.6199 - val_loss: 1.2792 - val_acc: 0.6245\n",
      "Epoch 8/9999\n",
      "303/303 [==============================] - 1s 2ms/step - loss: 1.2602 - acc: 0.6218 - val_loss: 1.2884 - val_acc: 0.6245\n",
      "Epoch 9/9999\n",
      "303/303 [==============================] - 1s 2ms/step - loss: 1.2519 - acc: 0.6252 - val_loss: 1.2843 - val_acc: 0.6293\n",
      "Epoch 10/9999\n",
      "303/303 [==============================] - 1s 2ms/step - loss: 1.2435 - acc: 0.6266 - val_loss: 1.2829 - val_acc: 0.6253\n",
      "Epoch 11/9999\n",
      "303/303 [==============================] - 1s 2ms/step - loss: 1.2390 - acc: 0.6273 - val_loss: 1.2459 - val_acc: 0.6218\n",
      "Epoch 12/9999\n",
      "303/303 [==============================] - 1s 2ms/step - loss: 1.2292 - acc: 0.6302 - val_loss: 1.2527 - val_acc: 0.6266\n",
      "Epoch 13/9999\n",
      "303/303 [==============================] - 1s 2ms/step - loss: 1.2277 - acc: 0.6298 - val_loss: 1.2559 - val_acc: 0.6240\n",
      "Epoch 14/9999\n",
      "303/303 [==============================] - 1s 2ms/step - loss: 1.2242 - acc: 0.6301 - val_loss: 1.2520 - val_acc: 0.6339\n",
      "Epoch 15/9999\n",
      "303/303 [==============================] - 1s 2ms/step - loss: 1.2186 - acc: 0.6311 - val_loss: 1.2559 - val_acc: 0.6317\n",
      "Epoch 16/9999\n",
      "303/303 [==============================] - 1s 2ms/step - loss: 1.2173 - acc: 0.6322 - val_loss: 1.2353 - val_acc: 0.6337\n",
      "Epoch 17/9999\n",
      "303/303 [==============================] - 1s 2ms/step - loss: 1.2131 - acc: 0.6327 - val_loss: 1.2336 - val_acc: 0.6292\n",
      "Epoch 18/9999\n",
      "303/303 [==============================] - 1s 2ms/step - loss: 1.2091 - acc: 0.6344 - val_loss: 1.2411 - val_acc: 0.6220\n",
      "Epoch 19/9999\n",
      "303/303 [==============================] - 1s 2ms/step - loss: 1.2071 - acc: 0.6331 - val_loss: 1.2468 - val_acc: 0.6362\n",
      "Epoch 20/9999\n",
      "303/303 [==============================] - 1s 2ms/step - loss: 1.2091 - acc: 0.6358 - val_loss: 1.2280 - val_acc: 0.6363\n",
      "Epoch 21/9999\n",
      "303/303 [==============================] - 1s 2ms/step - loss: 1.2039 - acc: 0.6357 - val_loss: 1.2576 - val_acc: 0.6216\n",
      "Epoch 22/9999\n",
      "303/303 [==============================] - 1s 2ms/step - loss: 1.2025 - acc: 0.6349 - val_loss: 1.2427 - val_acc: 0.6339\n",
      "Epoch 23/9999\n",
      "303/303 [==============================] - 1s 2ms/step - loss: 1.2018 - acc: 0.6352 - val_loss: 1.2393 - val_acc: 0.6333\n",
      "Epoch 24/9999\n",
      "303/303 [==============================] - 1s 2ms/step - loss: 1.2003 - acc: 0.6358 - val_loss: 1.2191 - val_acc: 0.6329\n",
      "Epoch 25/9999\n",
      "303/303 [==============================] - 1s 2ms/step - loss: 1.1949 - acc: 0.6373 - val_loss: 1.2245 - val_acc: 0.6307\n",
      "Epoch 26/9999\n",
      "303/303 [==============================] - 1s 2ms/step - loss: 1.1974 - acc: 0.6359 - val_loss: 1.2624 - val_acc: 0.6315\n",
      "Epoch 27/9999\n",
      "303/303 [==============================] - 1s 2ms/step - loss: 1.1965 - acc: 0.6370 - val_loss: 1.2110 - val_acc: 0.6391\n",
      "Epoch 28/9999\n",
      "303/303 [==============================] - 1s 2ms/step - loss: 1.1961 - acc: 0.6361 - val_loss: 1.2300 - val_acc: 0.6337\n",
      "Epoch 29/9999\n",
      "303/303 [==============================] - 1s 2ms/step - loss: 1.1952 - acc: 0.6372 - val_loss: 1.2081 - val_acc: 0.6373\n",
      "Epoch 30/9999\n",
      "303/303 [==============================] - 1s 2ms/step - loss: 1.1883 - acc: 0.6391 - val_loss: 1.2104 - val_acc: 0.6373\n",
      "Epoch 31/9999\n",
      "303/303 [==============================] - 1s 2ms/step - loss: 1.1930 - acc: 0.6374 - val_loss: 1.2216 - val_acc: 0.6341\n",
      "Epoch 32/9999\n",
      "303/303 [==============================] - 1s 2ms/step - loss: 1.1885 - acc: 0.6367 - val_loss: 1.2078 - val_acc: 0.6339\n",
      "Epoch 33/9999\n",
      "303/303 [==============================] - 1s 2ms/step - loss: 1.1929 - acc: 0.6366 - val_loss: 1.2339 - val_acc: 0.6351\n",
      "Epoch 34/9999\n",
      "303/303 [==============================] - 1s 2ms/step - loss: 1.1894 - acc: 0.6389 - val_loss: 1.2211 - val_acc: 0.6341\n",
      "Epoch 35/9999\n",
      "303/303 [==============================] - 1s 2ms/step - loss: 1.1893 - acc: 0.6375 - val_loss: 1.2205 - val_acc: 0.6369\n",
      "Epoch 36/9999\n",
      "303/303 [==============================] - 1s 2ms/step - loss: 1.1894 - acc: 0.6377 - val_loss: 1.2160 - val_acc: 0.6358\n",
      "Epoch 37/9999\n",
      "303/303 [==============================] - 1s 2ms/step - loss: 1.1890 - acc: 0.6385 - val_loss: 1.2328 - val_acc: 0.6367\n",
      "Epoch 38/9999\n",
      "303/303 [==============================] - 1s 2ms/step - loss: 1.1915 - acc: 0.6370 - val_loss: 1.2103 - val_acc: 0.6364\n",
      "Epoch 39/9999\n",
      "303/303 [==============================] - 1s 2ms/step - loss: 1.1863 - acc: 0.6387 - val_loss: 1.2126 - val_acc: 0.6340\n",
      "Epoch 40/9999\n",
      "303/303 [==============================] - 1s 2ms/step - loss: 1.1854 - acc: 0.6381 - val_loss: 1.2421 - val_acc: 0.6235\n",
      "Epoch 41/9999\n",
      "303/303 [==============================] - 1s 2ms/step - loss: 1.1868 - acc: 0.6382 - val_loss: 1.2324 - val_acc: 0.6374\n",
      "Epoch 42/9999\n",
      "303/303 [==============================] - 1s 2ms/step - loss: 1.1861 - acc: 0.6399 - val_loss: 1.2171 - val_acc: 0.6361\n"
     ]
    }
   ],
   "source": [
    "slp.compile(optimizer='adam', loss='categorical_crossentropy',metrics=['acc'])\n",
    "es = EarlyStopping(patience = 10, monitor='val_loss')\n",
    "mc_slp = ModelCheckpoint('best_model_slp.h5', monitor='val_loss')\n",
    "history_slp = slp.fit(x_train_flat, y_train,\n",
    "                epochs=9999,\n",
    "                batch_size=256,\n",
    "                shuffle=True,\n",
    "                validation_data=(x_val_flat, y_val),\n",
    "                callbacks = [es,mc_slp])"
   ]
  },
  {
   "cell_type": "code",
   "execution_count": 29,
   "metadata": {},
   "outputs": [
    {
     "data": {
      "image/png": "[encoded data removed]",
      "text/plain": [
       "<Figure size 432x288 with 1 Axes>"
      ]
     },
     "metadata": {
      "needs_background": "light"
     },
     "output_type": "display_data"
    },
    {
     "data": {
      "image/png": "[encoded data removed]",
      "text/plain": [
       "<Figure size 432x288 with 1 Axes>"
      ]
     },
     "metadata": {
      "needs_background": "light"
     },
     "output_type": "display_data"
    }
   ],
   "source": [
    "acc = history_slp.history['acc']\n",
    "val_acc = history_slp.history['val_acc']\n",
    "loss = history_slp.history['loss']\n",
    "val_loss = history_slp.history['val_loss']\n",
    "\n",
    "epochs = range(1, len(acc) + 1)\n",
    "\n",
    "plt.plot(epochs, acc, label='Training acc')\n",
    "plt.plot(epochs, val_acc, label='Validation acc')\n",
    "plt.title('Single Layer Precepton: Training and validation accuracy')\n",
    "plt.legend()\n",
    "\n",
    "plt.figure()\n",
    "\n",
    "plt.plot(epochs, loss, label='Training loss')\n",
    "plt.plot(epochs, val_loss, label='Validation loss')\n",
    "plt.title('Single Layer Precepton: Training and validation loss')\n",
    "plt.legend()\n",
    "\n",
    "plt.show()"
   ]
  },
  {
   "cell_type": "code",
   "execution_count": 30,
   "metadata": {},
   "outputs": [
    {
     "name": "stdout",
     "output_type": "stream",
     "text": [
      "Test loss: 1.208308219909668\n",
      "Test accuracy: 0.6345576643943787\n"
     ]
    }
   ],
   "source": [
    "test_eval = slp.evaluate(x_test_flat, y_test, verbose=0)\n",
    "print('Test loss:', test_eval[0])\n",
    "print('Test accuracy:', test_eval[1])"
   ]
  },
  {
   "cell_type": "code",
   "execution_count": 31,
   "metadata": {},
   "outputs": [],
   "source": [
    "pred_test_slp = np.argmax(slp.predict(x_test_flat), axis=1)\n",
    "y_test_slp= np.argmax(np.round(y_test),axis=1)"
   ]
  },
  {
   "cell_type": "code",
   "execution_count": 32,
   "metadata": {},
   "outputs": [
    {
     "name": "stdout",
     "output_type": "stream",
     "text": [
      "              precision    recall  f1-score   support\n",
      "\n",
      "       other       0.67      0.91      0.77      5861\n",
      "     forward       0.48      0.19      0.27       129\n",
      "    backward       0.66      0.25      0.37       150\n",
      "          up       0.36      0.21      0.26       335\n",
      "        down       0.36      0.17      0.23       345\n",
      "         yes       0.48      0.38      0.43       388\n",
      "          no       0.38      0.09      0.15       358\n",
      "          on       0.60      0.22      0.32       365\n",
      "         off       0.50      0.35      0.41       334\n",
      "       right       0.45      0.12      0.19       354\n",
      "        left       0.66      0.16      0.25       374\n",
      "          go       0.30      0.04      0.07       336\n",
      "        stop       0.48      0.29      0.36       336\n",
      "\n",
      "    accuracy                           0.63      9665\n",
      "   macro avg       0.49      0.26      0.31      9665\n",
      "weighted avg       0.59      0.63      0.58      9665\n",
      "\n"
     ]
    }
   ],
   "source": [
    "cmd = commands\n",
    "cmd.insert(0,\"other\")\n",
    "print(classification_report(y_test_slp, pred_test_slp, target_names=cmd))"
   ]
  },
  {
   "cell_type": "code",
   "execution_count": 33,
   "metadata": {},
   "outputs": [
    {
     "name": "stdout",
     "output_type": "stream",
     "text": [
      "[[ 24   2   0   0   0   1   0   2   1   0   1   1]\n",
      " [  1  38   1   7   1   0   0   0   0   0   0   0]\n",
      " [  0   0  69   3   3   1   6  22   1   3   1  19]\n",
      " [  0   0   9  59   1   1   4   0   1   0   1   3]\n",
      " [  0   0   0   2 148   0   1   1   1   2   0   1]\n",
      " [  0   0   6   7   1  34   0   1   0   0   5   2]\n",
      " [  0   0   5  18   0   6  81  28   1   0   0   5]\n",
      " [  0   1  25   3   3   4  16 118   1   1   0  15]\n",
      " [  1   0   0   0   9   0   0   0  43   1   0   2]\n",
      " [  0   2   2   1  24   2   0   5   5  58   0   0]\n",
      " [  3   2   2   3   2   4   1   2   0   0  13   5]\n",
      " [  0   1  16   4   2   1   2   4   0   0   0  98]]\n"
     ]
    }
   ],
   "source": [
    "print(confusion_matrix(y_test_slp,pred_test_slp)[1:13,1:13])"
   ]
  },
  {
   "cell_type": "code",
   "execution_count": 41,
   "metadata": {},
   "outputs": [
    {
     "data": {
      "text/plain": [
       "<matplotlib.axes._subplots.AxesSubplot at 0x23ca02dc3c8>"
      ]
     },
     "execution_count": 41,
     "metadata": {},
     "output_type": "execute_result"
    },
    {
     "data": {
      "image/png": "[encoded data removed]",
      "text/plain": [
       "<Figure size 504x432 with 2 Axes>"
      ]
     },
     "metadata": {
      "needs_background": "light"
     },
     "output_type": "display_data"
    }
   ],
   "source": [
    "df_cm = pd.DataFrame(confusion_matrix(y_test_slp,pred_test_slp)[1:13,1:13], index = commands[1:13],columns = commands[1:13])\n",
    "plt.figure(figsize = (7,6))\n",
    "sn.heatmap(df_cm, annot=True, fmt='g')"
   ]
  },
  {
   "cell_type": "markdown",
   "metadata": {},
   "source": [
    "# Dense Network"
   ]
  },
  {
   "cell_type": "code",
   "execution_count": 42,
   "metadata": {},
   "outputs": [],
   "source": [
    "dense = models.Sequential([\n",
    "  layers.Dense(128, activation='relu', input_shape=(256,)),\n",
    "  layers.Dense(64, activation='relu'),\n",
    "  layers.Dense(13, activation='softmax'),\n",
    "])"
   ]
  },
  {
   "cell_type": "code",
   "execution_count": 43,
   "metadata": {},
   "outputs": [
    {
     "name": "stdout",
     "output_type": "stream",
     "text": [
      "Model: \"sequential_1\"\n",
      "_________________________________________________________________\n",
      "Layer (type)                 Output Shape              Param #   \n",
      "=================================================================\n",
      "dense_1 (Dense)              (None, 128)               32896     \n",
      "_________________________________________________________________\n",
      "dense_2 (Dense)              (None, 64)                8256      \n",
      "_________________________________________________________________\n",
      "dense_3 (Dense)              (None, 13)                845       \n",
      "=================================================================\n",
      "Total params: 41,997\n",
      "Trainable params: 41,997\n",
      "Non-trainable params: 0\n",
      "_________________________________________________________________\n"
     ]
    }
   ],
   "source": [
    "dense.summary()"
   ]
  },
  {
   "cell_type": "code",
   "execution_count": 44,
   "metadata": {},
   "outputs": [
    {
     "name": "stdout",
     "output_type": "stream",
     "text": [
      "Epoch 1/9999\n",
      "303/303 [==============================] - 1s 2ms/step - loss: 1.4504 - acc: 0.6230 - val_loss: 0.9713 - val_acc: 0.6917\n",
      "Epoch 2/9999\n",
      "303/303 [==============================] - 1s 2ms/step - loss: 0.8512 - acc: 0.7300 - val_loss: 0.7771 - val_acc: 0.7542\n",
      "Epoch 3/9999\n",
      "303/303 [==============================] - 1s 2ms/step - loss: 0.7134 - acc: 0.7711 - val_loss: 0.7104 - val_acc: 0.7734\n",
      "Epoch 4/9999\n",
      "303/303 [==============================] - 1s 2ms/step - loss: 0.6412 - acc: 0.7937 - val_loss: 0.6522 - val_acc: 0.7953\n",
      "Epoch 5/9999\n",
      "303/303 [==============================] - 1s 2ms/step - loss: 0.5905 - acc: 0.8097 - val_loss: 0.6314 - val_acc: 0.7993\n",
      "Epoch 6/9999\n",
      "303/303 [==============================] - 1s 2ms/step - loss: 0.5504 - acc: 0.8219 - val_loss: 0.5942 - val_acc: 0.8122\n",
      "Epoch 7/9999\n",
      "303/303 [==============================] - 1s 2ms/step - loss: 0.5245 - acc: 0.8298 - val_loss: 0.5878 - val_acc: 0.8119\n",
      "Epoch 8/9999\n",
      "303/303 [==============================] - 1s 2ms/step - loss: 0.4937 - acc: 0.8390 - val_loss: 0.5586 - val_acc: 0.8201\n",
      "Epoch 9/9999\n",
      "303/303 [==============================] - 1s 2ms/step - loss: 0.4732 - acc: 0.8448 - val_loss: 0.5300 - val_acc: 0.8316\n",
      "Epoch 10/9999\n",
      "303/303 [==============================] - 1s 2ms/step - loss: 0.4532 - acc: 0.8506 - val_loss: 0.5318 - val_acc: 0.8317\n",
      "Epoch 11/9999\n",
      "303/303 [==============================] - 1s 2ms/step - loss: 0.4327 - acc: 0.8596 - val_loss: 0.5186 - val_acc: 0.8362\n",
      "Epoch 12/9999\n",
      "303/303 [==============================] - 1s 2ms/step - loss: 0.4167 - acc: 0.8635 - val_loss: 0.5281 - val_acc: 0.8313\n",
      "Epoch 13/9999\n",
      "303/303 [==============================] - 1s 2ms/step - loss: 0.4054 - acc: 0.8662 - val_loss: 0.5205 - val_acc: 0.8368\n",
      "Epoch 14/9999\n",
      "303/303 [==============================] - 1s 2ms/step - loss: 0.3934 - acc: 0.8697 - val_loss: 0.5029 - val_acc: 0.8418\n",
      "Epoch 15/9999\n",
      "303/303 [==============================] - 1s 3ms/step - loss: 0.3782 - acc: 0.8749 - val_loss: 0.5007 - val_acc: 0.8396\n",
      "Epoch 16/9999\n",
      "303/303 [==============================] - 1s 2ms/step - loss: 0.3695 - acc: 0.8776 - val_loss: 0.5240 - val_acc: 0.8391\n",
      "Epoch 17/9999\n",
      "303/303 [==============================] - 1s 2ms/step - loss: 0.3588 - acc: 0.8806 - val_loss: 0.5145 - val_acc: 0.8413\n",
      "Epoch 18/9999\n",
      "303/303 [==============================] - 1s 2ms/step - loss: 0.3468 - acc: 0.8841 - val_loss: 0.5082 - val_acc: 0.8442\n",
      "Epoch 19/9999\n",
      "303/303 [==============================] - 1s 2ms/step - loss: 0.3363 - acc: 0.8876 - val_loss: 0.4942 - val_acc: 0.8513\n",
      "Epoch 20/9999\n",
      "303/303 [==============================] - 1s 2ms/step - loss: 0.3300 - acc: 0.8894 - val_loss: 0.4853 - val_acc: 0.8522\n",
      "Epoch 21/9999\n",
      "303/303 [==============================] - 1s 2ms/step - loss: 0.3205 - acc: 0.8937 - val_loss: 0.4804 - val_acc: 0.8554\n",
      "Epoch 22/9999\n",
      "303/303 [==============================] - 1s 3ms/step - loss: 0.3124 - acc: 0.8954 - val_loss: 0.4933 - val_acc: 0.8508\n",
      "Epoch 23/9999\n",
      "303/303 [==============================] - 1s 2ms/step - loss: 0.3064 - acc: 0.8968 - val_loss: 0.4996 - val_acc: 0.8493\n",
      "Epoch 24/9999\n",
      "303/303 [==============================] - 1s 2ms/step - loss: 0.2988 - acc: 0.8993 - val_loss: 0.5144 - val_acc: 0.8466\n",
      "Epoch 25/9999\n",
      "303/303 [==============================] - 1s 2ms/step - loss: 0.2923 - acc: 0.9015 - val_loss: 0.5115 - val_acc: 0.8481\n",
      "Epoch 26/9999\n",
      "303/303 [==============================] - 1s 2ms/step - loss: 0.2866 - acc: 0.9036 - val_loss: 0.4964 - val_acc: 0.8540\n",
      "Epoch 27/9999\n",
      "303/303 [==============================] - 1s 2ms/step - loss: 0.2781 - acc: 0.9063 - val_loss: 0.4983 - val_acc: 0.8514\n",
      "Epoch 28/9999\n",
      "303/303 [==============================] - 1s 2ms/step - loss: 0.2700 - acc: 0.9097 - val_loss: 0.4962 - val_acc: 0.8512\n",
      "Epoch 29/9999\n",
      "303/303 [==============================] - 1s 2ms/step - loss: 0.2636 - acc: 0.9102 - val_loss: 0.4991 - val_acc: 0.8523\n",
      "Epoch 30/9999\n",
      "303/303 [==============================] - 1s 2ms/step - loss: 0.2635 - acc: 0.9112 - val_loss: 0.5097 - val_acc: 0.8522\n",
      "Epoch 31/9999\n",
      "303/303 [==============================] - 1s 2ms/step - loss: 0.2563 - acc: 0.9136 - val_loss: 0.5229 - val_acc: 0.8488\n"
     ]
    }
   ],
   "source": [
    "dense.compile(optimizer='adam', loss='categorical_crossentropy',metrics=['acc'])\n",
    "es = EarlyStopping(patience = 10, monitor='val_loss')\n",
    "mc_dense = ModelCheckpoint('best_model_dense.h5', monitor='val_loss')\n",
    "history_dense = dense.fit(x_train_flat, y_train,\n",
    "                epochs=9999,\n",
    "                batch_size=256,\n",
    "                shuffle=True,\n",
    "                validation_data=(x_val_flat, y_val),\n",
    "                callbacks = [es,mc_dense])"
   ]
  },
  {
   "cell_type": "code",
   "execution_count": 45,
   "metadata": {},
   "outputs": [
    {
     "data": {
      "image/png": "[encoded data removed]",
      "text/plain": [
       "<Figure size 432x288 with 1 Axes>"
      ]
     },
     "metadata": {
      "needs_background": "light"
     },
     "output_type": "display_data"
    },
    {
     "data": {
      "image/png": "[encoded data removed]",
      "text/plain": [
       "<Figure size 432x288 with 1 Axes>"
      ]
     },
     "metadata": {
      "needs_background": "light"
     },
     "output_type": "display_data"
    }
   ],
   "source": [
    "acc = history_dense.history['acc']\n",
    "val_acc = history_dense.history['val_acc']\n",
    "loss = history_dense.history['loss']\n",
    "val_loss = history_dense.history['val_loss']\n",
    "\n",
    "epochs = range(1, len(acc) + 1)\n",
    "\n",
    "plt.plot(epochs, acc, label='Training acc')\n",
    "plt.plot(epochs, val_acc, label='Validation acc')\n",
    "plt.title('Dense Neural Network: Training and validation accuracy')\n",
    "plt.legend()\n",
    "\n",
    "plt.figure()\n",
    "\n",
    "plt.plot(epochs, loss, label='Training loss')\n",
    "plt.plot(epochs, val_loss, label='Validation loss')\n",
    "plt.title('Dense Neural Network: Training and validation loss')\n",
    "plt.legend()\n",
    "\n",
    "plt.show()"
   ]
  },
  {
   "cell_type": "code",
   "execution_count": 46,
   "metadata": {},
   "outputs": [
    {
     "name": "stdout",
     "output_type": "stream",
     "text": [
      "Test loss: 0.5105646848678589\n",
      "Test accuracy: 0.8491464257240295\n"
     ]
    }
   ],
   "source": [
    "test_eval = dense.evaluate(x_test_flat, y_test, verbose=0)\n",
    "print('Test loss:', test_eval[0])\n",
    "print('Test accuracy:', test_eval[1])"
   ]
  },
  {
   "cell_type": "code",
   "execution_count": 47,
   "metadata": {},
   "outputs": [],
   "source": [
    "pred_test_dense = np.argmax(dense.predict(x_test_flat), axis=1)\n",
    "y_test_dense = np.argmax(np.round(y_test),axis=1)"
   ]
  },
  {
   "cell_type": "code",
   "execution_count": 48,
   "metadata": {},
   "outputs": [
    {
     "name": "stdout",
     "output_type": "stream",
     "text": [
      "              precision    recall  f1-score   support\n",
      "\n",
      "       other       0.90      0.92      0.91      5861\n",
      "     forward       0.75      0.53      0.62       129\n",
      "    backward       0.82      0.89      0.86       150\n",
      "          up       0.73      0.70      0.72       335\n",
      "        down       0.83      0.65      0.73       345\n",
      "         yes       0.92      0.76      0.83       388\n",
      "          no       0.77      0.63      0.69       358\n",
      "          on       0.70      0.75      0.73       365\n",
      "         off       0.77      0.76      0.77       334\n",
      "       right       0.76      0.82      0.79       354\n",
      "        left       0.73      0.79      0.76       374\n",
      "          go       0.63      0.73      0.68       336\n",
      "        stop       0.85      0.76      0.80       336\n",
      "\n",
      "    accuracy                           0.85      9665\n",
      "   macro avg       0.78      0.75      0.76      9665\n",
      "weighted avg       0.85      0.85      0.85      9665\n",
      "\n"
     ]
    }
   ],
   "source": [
    "print(classification_report(y_test_dense, pred_test_dense, target_names=cmd))"
   ]
  },
  {
   "cell_type": "code",
   "execution_count": 49,
   "metadata": {},
   "outputs": [
    {
     "name": "stdout",
     "output_type": "stream",
     "text": [
      "[[ 69   3   0   0   0   0   3   1   1   0   2   1]\n",
      " [  1 134   1   1   0   0   0   0   1   0   0   0]\n",
      " [  0   3 235   2   0   0  15  18   1   5   3   8]\n",
      " [  1   4   1 223   1  17   3   0   0   4   8   5]\n",
      " [  0   0   0   2 296   2   1   2   0  30   0   0]\n",
      " [  0   0   0   7   2 225   0   0   0   2  54   6]\n",
      " [  3   1   3   0   0   0 275  13   0   1   0   0]\n",
      " [  0   0  20   0   0   0  23 255   0   3   0   2]\n",
      " [  0   1   2   0   0   0   0   0 292   9   0   0]\n",
      " [  0   1   5   0  12   1   0   4  11 297   1   1]\n",
      " [  1   0   2   4   0  23   1   1   0   0 246   2]\n",
      " [  0   0  12   7   1   0   0   2   0   1   8 254]]\n"
     ]
    }
   ],
   "source": [
    "print(confusion_matrix(y_test_dense,pred_test_dense)[1:13,1:13])"
   ]
  },
  {
   "cell_type": "code",
   "execution_count": 50,
   "metadata": {},
   "outputs": [
    {
     "data": {
      "text/plain": [
       "<matplotlib.axes._subplots.AxesSubplot at 0x23cb5105a08>"
      ]
     },
     "execution_count": 50,
     "metadata": {},
     "output_type": "execute_result"
    },
    {
     "data": {
      "image/png": "[encoded data removed]",
      "text/plain": [
       "<Figure size 504x432 with 2 Axes>"
      ]
     },
     "metadata": {
      "needs_background": "light"
     },
     "output_type": "display_data"
    }
   ],
   "source": [
    "df_cm = pd.DataFrame(confusion_matrix(y_test_dense,pred_test_dense)[1:13,1:13], index = commands[1:13],columns = commands[1:13])\n",
    "plt.figure(figsize = (7,6))\n",
    "sn.heatmap(df_cm, annot=True, fmt='g')"
   ]
  },
  {
   "cell_type": "markdown",
   "metadata": {},
   "source": [
    "# Convolutional"
   ]
  },
  {
   "cell_type": "code",
   "execution_count": 51,
   "metadata": {},
   "outputs": [],
   "source": [
    "cnn_model = models.Sequential()\n",
    "cnn_model.add(layers.Conv2D(32, (2, 2), activation='relu',input_shape=(16,16,1)))\n",
    "cnn_model.add(layers.MaxPooling2D(pool_size=(2, 2)))\n",
    "\n",
    "cnn_model.add(layers.Conv2D(64, (2, 2), activation='relu'))\n",
    "cnn_model.add(layers.MaxPooling2D(pool_size=(2, 2)))\n",
    "\n",
    "cnn_model.add(layers.Flatten())\n",
    "cnn_model.add(layers.Dense(64, activation='relu'))\n",
    "cnn_model.add(layers.Dropout(0.5))\n",
    "cnn_model.add(layers.Dense(13, activation='softmax'))"
   ]
  },
  {
   "cell_type": "code",
   "execution_count": 52,
   "metadata": {
    "scrolled": false
   },
   "outputs": [
    {
     "name": "stdout",
     "output_type": "stream",
     "text": [
      "Model: \"sequential_2\"\n",
      "_________________________________________________________________\n",
      "Layer (type)                 Output Shape              Param #   \n",
      "=================================================================\n",
      "conv2d (Conv2D)              (None, 15, 15, 32)        160       \n",
      "_________________________________________________________________\n",
      "max_pooling2d (MaxPooling2D) (None, 7, 7, 32)          0         \n",
      "_________________________________________________________________\n",
      "conv2d_1 (Conv2D)            (None, 6, 6, 64)          8256      \n",
      "_________________________________________________________________\n",
      "max_pooling2d_1 (MaxPooling2 (None, 3, 3, 64)          0         \n",
      "_________________________________________________________________\n",
      "flatten (Flatten)            (None, 576)               0         \n",
      "_________________________________________________________________\n",
      "dense_4 (Dense)              (None, 64)                36928     \n",
      "_________________________________________________________________\n",
      "dropout (Dropout)            (None, 64)                0         \n",
      "_________________________________________________________________\n",
      "dense_5 (Dense)              (None, 13)                845       \n",
      "=================================================================\n",
      "Total params: 46,189\n",
      "Trainable params: 46,189\n",
      "Non-trainable params: 0\n",
      "_________________________________________________________________\n"
     ]
    }
   ],
   "source": [
    "# Display model\n",
    "cnn_model.summary()"
   ]
  },
  {
   "cell_type": "code",
   "execution_count": 53,
   "metadata": {},
   "outputs": [],
   "source": [
    "# Add training parameters to model\n",
    "cnn_model.compile(loss='categorical_crossentropy', optimizer='adam', metrics=['acc'])\n",
    "es = EarlyStopping(patience = 10, monitor='val_loss')\n",
    "mc_cnn = ModelCheckpoint('best_model_cnn.h5', monitor='val_loss')"
   ]
  },
  {
   "cell_type": "code",
   "execution_count": 54,
   "metadata": {},
   "outputs": [
    {
     "name": "stdout",
     "output_type": "stream",
     "text": [
      "Epoch 1/9999\n",
      "303/303 [==============================] - 1s 4ms/step - loss: 1.6322 - acc: 0.5930 - val_loss: 1.2516 - val_acc: 0.6124\n",
      "Epoch 2/9999\n",
      "303/303 [==============================] - 1s 3ms/step - loss: 1.2188 - acc: 0.6314 - val_loss: 0.9744 - val_acc: 0.6713\n",
      "Epoch 3/9999\n",
      "303/303 [==============================] - 1s 3ms/step - loss: 1.0499 - acc: 0.6675 - val_loss: 0.8473 - val_acc: 0.7121\n",
      "Epoch 4/9999\n",
      "303/303 [==============================] - 1s 3ms/step - loss: 0.9557 - acc: 0.6909 - val_loss: 0.7941 - val_acc: 0.7307\n",
      "Epoch 5/9999\n",
      "303/303 [==============================] - 1s 3ms/step - loss: 0.8843 - acc: 0.7129 - val_loss: 0.7359 - val_acc: 0.7514\n",
      "Epoch 6/9999\n",
      "303/303 [==============================] - 1s 3ms/step - loss: 0.8300 - acc: 0.7288 - val_loss: 0.6632 - val_acc: 0.7865\n",
      "Epoch 7/9999\n",
      "303/303 [==============================] - 1s 3ms/step - loss: 0.7792 - acc: 0.7455 - val_loss: 0.6279 - val_acc: 0.7947\n",
      "Epoch 8/9999\n",
      "303/303 [==============================] - 1s 3ms/step - loss: 0.7478 - acc: 0.7542 - val_loss: 0.6104 - val_acc: 0.8015\n",
      "Epoch 9/9999\n",
      "303/303 [==============================] - 1s 3ms/step - loss: 0.7207 - acc: 0.7626 - val_loss: 0.5742 - val_acc: 0.8125\n",
      "Epoch 10/9999\n",
      "303/303 [==============================] - 1s 3ms/step - loss: 0.6893 - acc: 0.7749 - val_loss: 0.5798 - val_acc: 0.8100\n",
      "Epoch 11/9999\n",
      "303/303 [==============================] - 1s 3ms/step - loss: 0.6681 - acc: 0.7819 - val_loss: 0.5374 - val_acc: 0.8264\n",
      "Epoch 12/9999\n",
      "303/303 [==============================] - 1s 3ms/step - loss: 0.6453 - acc: 0.7880 - val_loss: 0.5523 - val_acc: 0.8162\n",
      "Epoch 13/9999\n",
      "303/303 [==============================] - 1s 3ms/step - loss: 0.6291 - acc: 0.7933 - val_loss: 0.5102 - val_acc: 0.8341\n",
      "Epoch 14/9999\n",
      "303/303 [==============================] - 1s 3ms/step - loss: 0.6097 - acc: 0.7987 - val_loss: 0.5018 - val_acc: 0.8360\n",
      "Epoch 15/9999\n",
      "303/303 [==============================] - 1s 3ms/step - loss: 0.5932 - acc: 0.8050 - val_loss: 0.4794 - val_acc: 0.8433\n",
      "Epoch 16/9999\n",
      "303/303 [==============================] - 1s 3ms/step - loss: 0.5760 - acc: 0.8114 - val_loss: 0.4939 - val_acc: 0.8414\n",
      "Epoch 17/9999\n",
      "303/303 [==============================] - 1s 3ms/step - loss: 0.5679 - acc: 0.8131 - val_loss: 0.4754 - val_acc: 0.8467\n",
      "Epoch 18/9999\n",
      "303/303 [==============================] - 1s 3ms/step - loss: 0.5553 - acc: 0.8167 - val_loss: 0.5084 - val_acc: 0.8359\n",
      "Epoch 19/9999\n",
      "303/303 [==============================] - 1s 3ms/step - loss: 0.5450 - acc: 0.8206 - val_loss: 0.4519 - val_acc: 0.8538\n",
      "Epoch 20/9999\n",
      "303/303 [==============================] - 1s 3ms/step - loss: 0.5384 - acc: 0.8227 - val_loss: 0.4567 - val_acc: 0.8505\n",
      "Epoch 21/9999\n",
      "303/303 [==============================] - 1s 3ms/step - loss: 0.5285 - acc: 0.8253 - val_loss: 0.4444 - val_acc: 0.8550\n",
      "Epoch 22/9999\n",
      "303/303 [==============================] - 1s 3ms/step - loss: 0.5170 - acc: 0.8289 - val_loss: 0.4325 - val_acc: 0.8595\n",
      "Epoch 23/9999\n",
      "303/303 [==============================] - 1s 3ms/step - loss: 0.5103 - acc: 0.8312 - val_loss: 0.4407 - val_acc: 0.8567\n",
      "Epoch 24/9999\n",
      "303/303 [==============================] - 1s 3ms/step - loss: 0.5063 - acc: 0.8322 - val_loss: 0.4354 - val_acc: 0.8582\n",
      "Epoch 25/9999\n",
      "303/303 [==============================] - 1s 3ms/step - loss: 0.4980 - acc: 0.8350 - val_loss: 0.4202 - val_acc: 0.8683\n",
      "Epoch 26/9999\n",
      "303/303 [==============================] - 1s 3ms/step - loss: 0.4891 - acc: 0.8384 - val_loss: 0.4328 - val_acc: 0.8601\n",
      "Epoch 27/9999\n",
      "303/303 [==============================] - 1s 3ms/step - loss: 0.4858 - acc: 0.8378 - val_loss: 0.4202 - val_acc: 0.8660\n",
      "Epoch 28/9999\n",
      "303/303 [==============================] - 1s 3ms/step - loss: 0.4792 - acc: 0.8404 - val_loss: 0.4277 - val_acc: 0.8615\n",
      "Epoch 29/9999\n",
      "303/303 [==============================] - 1s 3ms/step - loss: 0.4757 - acc: 0.8412 - val_loss: 0.4135 - val_acc: 0.8660\n",
      "Epoch 30/9999\n",
      "303/303 [==============================] - 1s 3ms/step - loss: 0.4706 - acc: 0.8429 - val_loss: 0.4221 - val_acc: 0.8663\n",
      "Epoch 31/9999\n",
      "303/303 [==============================] - 1s 3ms/step - loss: 0.4641 - acc: 0.8457 - val_loss: 0.4253 - val_acc: 0.8648\n",
      "Epoch 32/9999\n",
      "303/303 [==============================] - 1s 3ms/step - loss: 0.4649 - acc: 0.8456 - val_loss: 0.4164 - val_acc: 0.8666\n",
      "Epoch 33/9999\n",
      "303/303 [==============================] - 1s 3ms/step - loss: 0.4556 - acc: 0.8473 - val_loss: 0.4089 - val_acc: 0.8708\n",
      "Epoch 34/9999\n",
      "303/303 [==============================] - 1s 3ms/step - loss: 0.4480 - acc: 0.8512 - val_loss: 0.4177 - val_acc: 0.8667\n",
      "Epoch 35/9999\n",
      "303/303 [==============================] - 1s 3ms/step - loss: 0.4514 - acc: 0.8494 - val_loss: 0.3955 - val_acc: 0.8733\n",
      "Epoch 36/9999\n",
      "303/303 [==============================] - 1s 3ms/step - loss: 0.4413 - acc: 0.8517 - val_loss: 0.4212 - val_acc: 0.8696\n",
      "Epoch 37/9999\n",
      "303/303 [==============================] - 1s 3ms/step - loss: 0.4395 - acc: 0.8512 - val_loss: 0.3950 - val_acc: 0.8742\n",
      "Epoch 38/9999\n",
      "303/303 [==============================] - 1s 3ms/step - loss: 0.4387 - acc: 0.8526 - val_loss: 0.4066 - val_acc: 0.8699\n",
      "Epoch 39/9999\n",
      "303/303 [==============================] - 1s 3ms/step - loss: 0.4320 - acc: 0.8548 - val_loss: 0.4151 - val_acc: 0.8683\n",
      "Epoch 40/9999\n",
      "303/303 [==============================] - 1s 3ms/step - loss: 0.4310 - acc: 0.8547 - val_loss: 0.4123 - val_acc: 0.8703\n",
      "Epoch 41/9999\n",
      "303/303 [==============================] - 1s 3ms/step - loss: 0.4270 - acc: 0.8568 - val_loss: 0.4173 - val_acc: 0.8708\n",
      "Epoch 42/9999\n",
      "303/303 [==============================] - 1s 3ms/step - loss: 0.4232 - acc: 0.8575 - val_loss: 0.4020 - val_acc: 0.8745\n",
      "Epoch 43/9999\n",
      "303/303 [==============================] - 1s 3ms/step - loss: 0.4235 - acc: 0.8576 - val_loss: 0.3985 - val_acc: 0.8751\n",
      "Epoch 44/9999\n",
      "303/303 [==============================] - 1s 3ms/step - loss: 0.4177 - acc: 0.8580 - val_loss: 0.4076 - val_acc: 0.8695\n",
      "Epoch 45/9999\n",
      "303/303 [==============================] - 1s 3ms/step - loss: 0.4175 - acc: 0.8586 - val_loss: 0.4112 - val_acc: 0.8727\n",
      "Epoch 46/9999\n",
      "303/303 [==============================] - 1s 3ms/step - loss: 0.4131 - acc: 0.8607 - val_loss: 0.4049 - val_acc: 0.8742\n",
      "Epoch 47/9999\n",
      "303/303 [==============================] - 1s 3ms/step - loss: 0.4119 - acc: 0.8606 - val_loss: 0.4002 - val_acc: 0.8759\n"
     ]
    }
   ],
   "source": [
    "# Train\n",
    "history_cnn = cnn_model.fit(x_train, \n",
    "                    y_train, \n",
    "                    epochs=9999, \n",
    "                    batch_size=256, \n",
    "                    validation_data=(x_val, y_val),\n",
    "                    callbacks = [es,mc_cnn])"
   ]
  },
  {
   "cell_type": "code",
   "execution_count": 55,
   "metadata": {},
   "outputs": [
    {
     "data": {
      "image/png": "[encoded data removed]",
      "text/plain": [
       "<Figure size 432x288 with 1 Axes>"
      ]
     },
     "metadata": {
      "needs_background": "light"
     },
     "output_type": "display_data"
    },
    {
     "data": {
      "image/png": "[encoded data removed]",
      "text/plain": [
       "<Figure size 432x288 with 1 Axes>"
      ]
     },
     "metadata": {
      "needs_background": "light"
     },
     "output_type": "display_data"
    }
   ],
   "source": [
    "# Plot results\n",
    "\n",
    "acc = history_cnn.history['acc']\n",
    "val_acc = history_cnn.history['val_acc']\n",
    "loss = history_cnn.history['loss']\n",
    "val_loss = history_cnn.history['val_loss']\n",
    "\n",
    "epochs = range(1, len(acc) + 1)\n",
    "\n",
    "plt.plot(epochs, acc, label='Training acc')\n",
    "plt.plot(epochs, val_acc, label='Validation acc')\n",
    "plt.title('Convolutional Neural Network: Training and validation accuracy')\n",
    "plt.legend()\n",
    "\n",
    "plt.figure()\n",
    "\n",
    "plt.plot(epochs, loss, label='Training loss')\n",
    "plt.plot(epochs, val_loss, label='Validation loss')\n",
    "plt.title('Convolutional Neural Network: Training and validation loss')\n",
    "plt.legend()\n",
    "\n",
    "plt.show()"
   ]
  },
  {
   "cell_type": "code",
   "execution_count": 56,
   "metadata": {},
   "outputs": [
    {
     "name": "stdout",
     "output_type": "stream",
     "text": [
      "Test loss: 0.3849329352378845\n",
      "Test accuracy: 0.8810139894485474\n"
     ]
    }
   ],
   "source": [
    "test_eval = cnn_model.evaluate(x_test, y_test, verbose=0)\n",
    "print('Test loss:', test_eval[0])\n",
    "print('Test accuracy:', test_eval[1])"
   ]
  },
  {
   "cell_type": "code",
   "execution_count": 57,
   "metadata": {},
   "outputs": [],
   "source": [
    "pred_test_cnn = np.argmax(cnn_model.predict(x_test), axis=1)"
   ]
  },
  {
   "cell_type": "code",
   "execution_count": 58,
   "metadata": {},
   "outputs": [],
   "source": [
    "y_test_cnn= np.argmax(np.round(y_test),axis=1)"
   ]
  },
  {
   "cell_type": "code",
   "execution_count": 59,
   "metadata": {},
   "outputs": [
    {
     "name": "stdout",
     "output_type": "stream",
     "text": [
      "              precision    recall  f1-score   support\n",
      "\n",
      "       other       0.89      0.97      0.92      5861\n",
      "     forward       0.77      0.36      0.49       129\n",
      "    backward       0.98      0.85      0.91       150\n",
      "          up       0.85      0.71      0.77       335\n",
      "        down       0.87      0.74      0.80       345\n",
      "         yes       0.92      0.86      0.89       388\n",
      "          no       0.78      0.74      0.76       358\n",
      "          on       0.87      0.76      0.81       365\n",
      "         off       0.85      0.75      0.80       334\n",
      "       right       0.95      0.83      0.88       354\n",
      "        left       0.95      0.75      0.84       374\n",
      "          go       0.80      0.63      0.71       336\n",
      "        stop       0.85      0.78      0.81       336\n",
      "\n",
      "    accuracy                           0.88      9665\n",
      "   macro avg       0.87      0.75      0.80      9665\n",
      "weighted avg       0.88      0.88      0.88      9665\n",
      "\n"
     ]
    }
   ],
   "source": [
    "print(classification_report(y_test_cnn, pred_test_cnn, target_names=cmd))"
   ]
  },
  {
   "cell_type": "code",
   "execution_count": 60,
   "metadata": {},
   "outputs": [
    {
     "name": "stdout",
     "output_type": "stream",
     "text": [
      "[[ 47   0   0   0   0   0   2   0   1   0   0   0]\n",
      " [  0 127   1   0   0   0   0   0   0   0   0   0]\n",
      " [  0   0 239   0   0   2   4  22   0   1   0  15]\n",
      " [  0   0   1 256   0  13   1   0   0   0   5   0]\n",
      " [  0   0   0   0 334   1   0   0   0   2   0   0]\n",
      " [  0   0   0   9   3 264   0   0   0   0  16   4]\n",
      " [  0   0   4   0   0   0 279   5   1   0   0   0]\n",
      " [  0   0  14   0   0   0  12 251   0   0   2   2]\n",
      " [  0   1   0   0   0   0   0   0 294   1   0   0]\n",
      " [  0   0   2   0  14   1   0   2   7 281   0   0]\n",
      " [  1   0   1   7   0  31   0   1   0   0 213   4]\n",
      " [  0   0   2   4   0   0   2   1   0   1   1 262]]\n"
     ]
    }
   ],
   "source": [
    "print(confusion_matrix(y_test_cnn,pred_test_cnn)[1:13,1:13])"
   ]
  },
  {
   "cell_type": "code",
   "execution_count": 63,
   "metadata": {},
   "outputs": [
    {
     "data": {
      "text/plain": [
       "<matplotlib.axes._subplots.AxesSubplot at 0x23ce2721388>"
      ]
     },
     "execution_count": 63,
     "metadata": {},
     "output_type": "execute_result"
    },
    {
     "data": {
      "image/png": "[encoded data removed]",
      "text/plain": [
       "<Figure size 504x432 with 2 Axes>"
      ]
     },
     "metadata": {
      "needs_background": "light"
     },
     "output_type": "display_data"
    }
   ],
   "source": [
    "df_cm = pd.DataFrame(confusion_matrix(y_test_cnn,pred_test_cnn)[1:13,1:13], index = commands[1:13],columns = commands[1:13])\n",
    "plt.figure(figsize = (7,6))\n",
    "sn.heatmap(df_cm, annot=True, fmt='g')"
   ]
  },
  {
   "cell_type": "code",
   "execution_count": 70,
   "metadata": {},
   "outputs": [
    {
     "data": {
      "image/png": "[encoded data removed]",
      "text/plain": [
       "<Figure size 504x432 with 1 Axes>"
      ]
     },
     "metadata": {
      "needs_background": "light"
     },
     "output_type": "display_data"
    }
   ],
   "source": [
    "val_acc_slp = history_slp.history['val_acc']\n",
    "val_acc_dense = history_dense.history['val_acc']\n",
    "val_acc_cnn = history_cnn.history['val_acc']\n",
    "\n",
    "epochs_slp = range(1, len(val_acc_slp) + 1)\n",
    "epochs_dense = range(1, len(val_acc_dense) + 1)\n",
    "epochs_cnn = range(1, len(val_acc_cnn) + 1)\n",
    "plt.figure(figsize = (7,6))\n",
    "plt.plot(epochs_slp, val_acc_slp, label='Single Layer Perceptron')\n",
    "plt.plot(epochs_dense, val_acc_dense, label='Dense Neural Network')\n",
    "plt.plot(epochs_cnn, val_acc_cnn, label='Convolutional Nueral Network')\n",
    "plt.title('Validation accuracy for all three architectures')\n",
    "plt.xlabel('Epochs', fontsize=10)\n",
    "plt.ylabel('Validation accuracy', fontsize=10)\n",
    "plt.legend()\n",
    "plt.grid()\n",
    "plt.show()"
   ]
  },
  {
   "cell_type": "markdown",
   "metadata": {},
   "source": [
    "# Additonal Experiment"
   ]
  },
  {
   "cell_type": "code",
   "execution_count": 71,
   "metadata": {},
   "outputs": [
    {
     "name": "stdout",
     "output_type": "stream",
     "text": [
      "Model: \"sequential_3\"\n",
      "_________________________________________________________________\n",
      "Layer (type)                 Output Shape              Param #   \n",
      "=================================================================\n",
      "conv2d_2 (Conv2D)            (None, 15, 15, 32)        160       \n",
      "_________________________________________________________________\n",
      "max_pooling2d_2 (MaxPooling2 (None, 7, 7, 32)          0         \n",
      "_________________________________________________________________\n",
      "flatten_1 (Flatten)          (None, 1568)              0         \n",
      "_________________________________________________________________\n",
      "dense_6 (Dense)              (None, 64)                100416    \n",
      "_________________________________________________________________\n",
      "dropout_1 (Dropout)          (None, 64)                0         \n",
      "_________________________________________________________________\n",
      "dense_7 (Dense)              (None, 13)                845       \n",
      "=================================================================\n",
      "Total params: 101,421\n",
      "Trainable params: 101,421\n",
      "Non-trainable params: 0\n",
      "_________________________________________________________________\n",
      "Epoch 1/9999\n",
      "303/303 [==============================] - 1s 3ms/step - loss: 1.6793 - acc: 0.5850 - val_loss: 1.3462 - val_acc: 0.6041\n",
      "Epoch 2/9999\n",
      "303/303 [==============================] - 1s 3ms/step - loss: 1.4590 - acc: 0.6060 - val_loss: 1.2563 - val_acc: 0.6039\n",
      "Epoch 3/9999\n",
      "303/303 [==============================] - 1s 3ms/step - loss: 1.3897 - acc: 0.6088 - val_loss: 1.2087 - val_acc: 0.6045\n",
      "Epoch 4/9999\n",
      "303/303 [==============================] - 1s 3ms/step - loss: 1.3480 - acc: 0.6113 - val_loss: 1.1829 - val_acc: 0.6076\n",
      "Epoch 5/9999\n",
      "303/303 [==============================] - 1s 3ms/step - loss: 1.3131 - acc: 0.6121 - val_loss: 1.1535 - val_acc: 0.6079\n",
      "Epoch 6/9999\n",
      "303/303 [==============================] - 1s 3ms/step - loss: 1.2860 - acc: 0.6147 - val_loss: 1.1307 - val_acc: 0.6099\n",
      "Epoch 7/9999\n",
      "303/303 [==============================] - 1s 3ms/step - loss: 1.2552 - acc: 0.6194 - val_loss: 1.1061 - val_acc: 0.6208\n",
      "Epoch 8/9999\n",
      "303/303 [==============================] - 1s 3ms/step - loss: 1.2318 - acc: 0.6224 - val_loss: 1.0747 - val_acc: 0.6266\n",
      "Epoch 9/9999\n",
      "303/303 [==============================] - 1s 3ms/step - loss: 1.2116 - acc: 0.6258 - val_loss: 1.0581 - val_acc: 0.6314\n",
      "Epoch 10/9999\n",
      "303/303 [==============================] - 1s 3ms/step - loss: 1.2020 - acc: 0.6278 - val_loss: 1.0521 - val_acc: 0.6281\n",
      "Epoch 11/9999\n",
      "303/303 [==============================] - 1s 3ms/step - loss: 1.1903 - acc: 0.6287 - val_loss: 1.0257 - val_acc: 0.6319\n",
      "Epoch 12/9999\n",
      "303/303 [==============================] - 1s 3ms/step - loss: 1.1753 - acc: 0.6313 - val_loss: 1.0064 - val_acc: 0.6394\n",
      "Epoch 13/9999\n",
      "303/303 [==============================] - 1s 3ms/step - loss: 1.1679 - acc: 0.6339 - val_loss: 1.0011 - val_acc: 0.6401\n",
      "Epoch 14/9999\n",
      "303/303 [==============================] - 1s 3ms/step - loss: 1.1634 - acc: 0.6356 - val_loss: 0.9983 - val_acc: 0.6381\n",
      "Epoch 15/9999\n",
      "303/303 [==============================] - 1s 3ms/step - loss: 1.1582 - acc: 0.6355 - val_loss: 0.9851 - val_acc: 0.6451\n",
      "Epoch 16/9999\n",
      "303/303 [==============================] - 1s 3ms/step - loss: 1.1496 - acc: 0.6358 - val_loss: 0.9625 - val_acc: 0.6475\n",
      "Epoch 17/9999\n",
      "303/303 [==============================] - 1s 3ms/step - loss: 1.1417 - acc: 0.6395 - val_loss: 0.9753 - val_acc: 0.6400\n",
      "Epoch 18/9999\n",
      "303/303 [==============================] - 1s 3ms/step - loss: 1.1401 - acc: 0.6402 - val_loss: 0.9787 - val_acc: 0.6384\n",
      "Epoch 19/9999\n",
      "303/303 [==============================] - 1s 3ms/step - loss: 1.1324 - acc: 0.6427 - val_loss: 0.9438 - val_acc: 0.6555\n",
      "Epoch 20/9999\n",
      "303/303 [==============================] - 1s 3ms/step - loss: 1.1266 - acc: 0.6434 - val_loss: 0.9539 - val_acc: 0.6484\n",
      "Epoch 21/9999\n",
      "303/303 [==============================] - 1s 3ms/step - loss: 1.1187 - acc: 0.6456 - val_loss: 0.9346 - val_acc: 0.6594\n",
      "Epoch 22/9999\n",
      "303/303 [==============================] - 1s 3ms/step - loss: 1.1195 - acc: 0.6456 - val_loss: 0.9470 - val_acc: 0.6467\n",
      "Epoch 23/9999\n",
      "303/303 [==============================] - 1s 3ms/step - loss: 1.1107 - acc: 0.6479 - val_loss: 0.9504 - val_acc: 0.6568\n",
      "Epoch 24/9999\n",
      "303/303 [==============================] - 1s 3ms/step - loss: 1.1110 - acc: 0.6473 - val_loss: 0.9248 - val_acc: 0.6641\n",
      "Epoch 25/9999\n",
      "303/303 [==============================] - 1s 3ms/step - loss: 1.1043 - acc: 0.6476 - val_loss: 0.9380 - val_acc: 0.6580\n",
      "Epoch 26/9999\n",
      "303/303 [==============================] - 1s 3ms/step - loss: 1.1018 - acc: 0.6504 - val_loss: 0.9424 - val_acc: 0.6539\n",
      "Epoch 27/9999\n",
      "303/303 [==============================] - 1s 3ms/step - loss: 1.1045 - acc: 0.6484 - val_loss: 0.9100 - val_acc: 0.6688\n",
      "Epoch 28/9999\n",
      "303/303 [==============================] - 1s 3ms/step - loss: 1.0957 - acc: 0.6507 - val_loss: 0.9154 - val_acc: 0.6644\n",
      "Epoch 29/9999\n",
      "303/303 [==============================] - 1s 3ms/step - loss: 1.0961 - acc: 0.6506 - val_loss: 0.9236 - val_acc: 0.6526\n",
      "Epoch 30/9999\n",
      "303/303 [==============================] - 1s 3ms/step - loss: 1.0922 - acc: 0.6522 - val_loss: 0.9126 - val_acc: 0.6674\n",
      "Epoch 31/9999\n",
      "303/303 [==============================] - 1s 3ms/step - loss: 1.0880 - acc: 0.6545 - val_loss: 0.9097 - val_acc: 0.6656\n",
      "Epoch 32/9999\n",
      "303/303 [==============================] - 1s 3ms/step - loss: 1.0862 - acc: 0.6550 - val_loss: 0.8897 - val_acc: 0.6743\n",
      "Epoch 33/9999\n",
      "303/303 [==============================] - 1s 3ms/step - loss: 1.0794 - acc: 0.6546 - val_loss: 0.8958 - val_acc: 0.6749\n",
      "Epoch 34/9999\n",
      "303/303 [==============================] - 1s 3ms/step - loss: 1.0750 - acc: 0.6551 - val_loss: 0.8938 - val_acc: 0.6774\n",
      "Epoch 35/9999\n",
      "303/303 [==============================] - 1s 3ms/step - loss: 1.0686 - acc: 0.6582 - val_loss: 0.9080 - val_acc: 0.6625\n",
      "Epoch 36/9999\n",
      "303/303 [==============================] - 1s 3ms/step - loss: 1.0682 - acc: 0.6586 - val_loss: 0.8881 - val_acc: 0.6765\n",
      "Epoch 37/9999\n",
      "303/303 [==============================] - 1s 3ms/step - loss: 1.0624 - acc: 0.6597 - val_loss: 0.8733 - val_acc: 0.6856\n",
      "Epoch 38/9999\n",
      "303/303 [==============================] - 1s 3ms/step - loss: 1.0625 - acc: 0.6610 - val_loss: 0.8734 - val_acc: 0.6808\n",
      "Epoch 39/9999\n",
      "303/303 [==============================] - 1s 3ms/step - loss: 1.0588 - acc: 0.6610 - val_loss: 0.8743 - val_acc: 0.6742\n",
      "Epoch 40/9999\n",
      "303/303 [==============================] - 1s 3ms/step - loss: 1.0549 - acc: 0.6619 - val_loss: 0.8627 - val_acc: 0.6853\n",
      "Epoch 41/9999\n",
      "303/303 [==============================] - 1s 3ms/step - loss: 1.0459 - acc: 0.6648 - val_loss: 0.8545 - val_acc: 0.6887\n",
      "Epoch 42/9999\n",
      "303/303 [==============================] - 1s 3ms/step - loss: 1.0413 - acc: 0.6657 - val_loss: 0.8471 - val_acc: 0.7013\n",
      "Epoch 43/9999\n",
      "303/303 [==============================] - 1s 3ms/step - loss: 1.0383 - acc: 0.6689 - val_loss: 0.8419 - val_acc: 0.7014\n",
      "Epoch 44/9999\n",
      "303/303 [==============================] - 1s 3ms/step - loss: 1.0379 - acc: 0.6676 - val_loss: 0.8272 - val_acc: 0.7082\n",
      "Epoch 45/9999\n",
      "303/303 [==============================] - 1s 3ms/step - loss: 1.0317 - acc: 0.6677 - val_loss: 0.8289 - val_acc: 0.7070\n",
      "Epoch 46/9999\n",
      "303/303 [==============================] - 1s 3ms/step - loss: 1.0317 - acc: 0.6698 - val_loss: 0.8225 - val_acc: 0.7098\n",
      "Epoch 47/9999\n",
      "303/303 [==============================] - 1s 3ms/step - loss: 1.0259 - acc: 0.6700 - val_loss: 0.8353 - val_acc: 0.7040\n",
      "Epoch 48/9999\n",
      "303/303 [==============================] - 1s 3ms/step - loss: 1.0216 - acc: 0.6726 - val_loss: 0.8142 - val_acc: 0.7142\n",
      "Epoch 49/9999\n",
      "303/303 [==============================] - 1s 3ms/step - loss: 1.0236 - acc: 0.6710 - val_loss: 0.8198 - val_acc: 0.7120\n",
      "Epoch 50/9999\n",
      "303/303 [==============================] - 1s 3ms/step - loss: 1.0175 - acc: 0.6741 - val_loss: 0.8291 - val_acc: 0.7061\n",
      "Epoch 51/9999\n",
      "303/303 [==============================] - 1s 3ms/step - loss: 1.0148 - acc: 0.6733 - val_loss: 0.8205 - val_acc: 0.7145\n",
      "Epoch 52/9999\n",
      "303/303 [==============================] - 1s 3ms/step - loss: 1.0127 - acc: 0.6741 - val_loss: 0.8145 - val_acc: 0.7137\n",
      "Epoch 53/9999\n",
      "303/303 [==============================] - 1s 3ms/step - loss: 1.0087 - acc: 0.6749 - val_loss: 0.8096 - val_acc: 0.7156\n",
      "Epoch 54/9999\n",
      "303/303 [==============================] - 1s 3ms/step - loss: 1.0011 - acc: 0.6770 - val_loss: 0.8101 - val_acc: 0.7142\n",
      "Epoch 55/9999\n",
      "303/303 [==============================] - 1s 3ms/step - loss: 1.0009 - acc: 0.6777 - val_loss: 0.8009 - val_acc: 0.7193\n",
      "Epoch 56/9999\n",
      "303/303 [==============================] - 1s 3ms/step - loss: 0.9985 - acc: 0.6779 - val_loss: 0.8175 - val_acc: 0.7109\n",
      "Epoch 57/9999\n",
      "303/303 [==============================] - 1s 3ms/step - loss: 0.9965 - acc: 0.6781 - val_loss: 0.8048 - val_acc: 0.7178\n",
      "Epoch 58/9999\n",
      "303/303 [==============================] - 1s 3ms/step - loss: 0.9934 - acc: 0.6799 - val_loss: 0.8162 - val_acc: 0.7108\n",
      "Epoch 59/9999\n",
      "303/303 [==============================] - 1s 3ms/step - loss: 0.9895 - acc: 0.6798 - val_loss: 0.8021 - val_acc: 0.7184\n",
      "Epoch 60/9999\n",
      "303/303 [==============================] - 1s 3ms/step - loss: 0.9925 - acc: 0.6779 - val_loss: 0.8195 - val_acc: 0.7085\n",
      "Epoch 61/9999\n",
      "303/303 [==============================] - 1s 3ms/step - loss: 0.9917 - acc: 0.6770 - val_loss: 0.7832 - val_acc: 0.7331\n",
      "Epoch 62/9999\n",
      "303/303 [==============================] - 1s 3ms/step - loss: 0.9878 - acc: 0.6794 - val_loss: 0.8033 - val_acc: 0.7193\n",
      "Epoch 63/9999\n",
      "303/303 [==============================] - 1s 3ms/step - loss: 0.9859 - acc: 0.6818 - val_loss: 0.7924 - val_acc: 0.7243\n",
      "Epoch 64/9999\n",
      "303/303 [==============================] - 1s 3ms/step - loss: 0.9787 - acc: 0.6843 - val_loss: 0.8035 - val_acc: 0.7127\n",
      "Epoch 65/9999\n",
      "303/303 [==============================] - 1s 3ms/step - loss: 0.9839 - acc: 0.6819 - val_loss: 0.7837 - val_acc: 0.7335\n",
      "Epoch 66/9999\n",
      "303/303 [==============================] - 1s 3ms/step - loss: 0.9786 - acc: 0.6819 - val_loss: 0.7985 - val_acc: 0.7179\n",
      "Epoch 67/9999\n",
      "303/303 [==============================] - 1s 3ms/step - loss: 0.9774 - acc: 0.6836 - val_loss: 0.7858 - val_acc: 0.7276\n",
      "Epoch 68/9999\n",
      "303/303 [==============================] - 1s 3ms/step - loss: 0.9801 - acc: 0.6835 - val_loss: 0.7861 - val_acc: 0.7269\n",
      "Epoch 69/9999\n",
      "303/303 [==============================] - 1s 3ms/step - loss: 0.9738 - acc: 0.6849 - val_loss: 0.7940 - val_acc: 0.7246\n",
      "Epoch 70/9999\n",
      "303/303 [==============================] - 1s 3ms/step - loss: 0.9664 - acc: 0.6855 - val_loss: 0.7868 - val_acc: 0.7261\n",
      "Epoch 71/9999\n",
      "303/303 [==============================] - 1s 3ms/step - loss: 0.9672 - acc: 0.6864 - val_loss: 0.7855 - val_acc: 0.7260\n",
      "Test loss: 0.7614719271659851\n",
      "Test accuracy: 0.7304707765579224\n"
     ]
    }
   ],
   "source": [
    "cnn_model1 = models.Sequential()\n",
    "cnn_model1.add(layers.Conv2D(32, (2, 2), activation='relu',input_shape=(16,16,1)))\n",
    "cnn_model1.add(layers.MaxPooling2D(pool_size=(2, 2)))\n",
    "cnn_model1.add(layers.Flatten())\n",
    "cnn_model1.add(layers.Dense(64, activation='relu'))\n",
    "cnn_model1.add(layers.Dropout(0.5))\n",
    "cnn_model1.add(layers.Dense(13, activation='softmax'))\n",
    "cnn_model1.summary()\n",
    "# Add training parameters to model\n",
    "cnn_model1.compile(loss='categorical_crossentropy', optimizer='adam', metrics=['acc'])\n",
    "es = EarlyStopping(patience = 10, monitor='val_loss')\n",
    "mc_cnn1 = ModelCheckpoint('best_model_cnn1.h5', monitor='val_loss')\n",
    "# Train\n",
    "history_cnn1 = cnn_model1.fit(x_train, \n",
    "                    y_train, \n",
    "                    epochs=9999, \n",
    "                    batch_size=256, \n",
    "                    validation_data=(x_val, y_val),\n",
    "                    callbacks = [es,mc_cnn1])\n",
    "test_eval1 = cnn_model1.evaluate(x_test, y_test, verbose=0)\n",
    "print('Test loss:', test_eval1[0])\n",
    "print('Test accuracy:', test_eval1[1])"
   ]
  },
  {
   "cell_type": "code",
   "execution_count": 72,
   "metadata": {},
   "outputs": [
    {
     "name": "stdout",
     "output_type": "stream",
     "text": [
      "Model: \"sequential_4\"\n",
      "_________________________________________________________________\n",
      "Layer (type)                 Output Shape              Param #   \n",
      "=================================================================\n",
      "conv2d_3 (Conv2D)            (None, 15, 15, 32)        160       \n",
      "_________________________________________________________________\n",
      "max_pooling2d_3 (MaxPooling2 (None, 7, 7, 32)          0         \n",
      "_________________________________________________________________\n",
      "conv2d_4 (Conv2D)            (None, 6, 6, 64)          8256      \n",
      "_________________________________________________________________\n",
      "max_pooling2d_4 (MaxPooling2 (None, 3, 3, 64)          0         \n",
      "_________________________________________________________________\n",
      "flatten_2 (Flatten)          (None, 576)               0         \n",
      "_________________________________________________________________\n",
      "dense_8 (Dense)              (None, 64)                36928     \n",
      "_________________________________________________________________\n",
      "dropout_2 (Dropout)          (None, 64)                0         \n",
      "_________________________________________________________________\n",
      "dense_9 (Dense)              (None, 13)                845       \n",
      "=================================================================\n",
      "Total params: 46,189\n",
      "Trainable params: 46,189\n",
      "Non-trainable params: 0\n",
      "_________________________________________________________________\n",
      "Epoch 1/9999\n",
      "303/303 [==============================] - 1s 4ms/step - loss: 1.5724 - acc: 0.5993 - val_loss: 1.2020 - val_acc: 0.6246\n",
      "Epoch 2/9999\n",
      "303/303 [==============================] - 1s 3ms/step - loss: 1.2128 - acc: 0.6373 - val_loss: 0.9598 - val_acc: 0.6756\n",
      "Epoch 3/9999\n",
      "303/303 [==============================] - 1s 3ms/step - loss: 1.0408 - acc: 0.6702 - val_loss: 0.8208 - val_acc: 0.7219\n",
      "Epoch 4/9999\n",
      "303/303 [==============================] - 1s 3ms/step - loss: 0.9366 - acc: 0.6983 - val_loss: 0.7438 - val_acc: 0.7435\n",
      "Epoch 5/9999\n",
      "303/303 [==============================] - 1s 3ms/step - loss: 0.8635 - acc: 0.7195 - val_loss: 0.6894 - val_acc: 0.7682\n",
      "Epoch 6/9999\n",
      "303/303 [==============================] - 1s 3ms/step - loss: 0.8097 - acc: 0.7356 - val_loss: 0.6286 - val_acc: 0.7950\n",
      "Epoch 7/9999\n",
      "303/303 [==============================] - 1s 3ms/step - loss: 0.7673 - acc: 0.7481 - val_loss: 0.6077 - val_acc: 0.7998\n",
      "Epoch 8/9999\n",
      "303/303 [==============================] - 1s 3ms/step - loss: 0.7341 - acc: 0.7584 - val_loss: 0.5772 - val_acc: 0.8134\n",
      "Epoch 9/9999\n",
      "303/303 [==============================] - 1s 3ms/step - loss: 0.7103 - acc: 0.7654 - val_loss: 0.5752 - val_acc: 0.8098\n",
      "Epoch 10/9999\n",
      "303/303 [==============================] - 1s 3ms/step - loss: 0.6810 - acc: 0.7744 - val_loss: 0.5353 - val_acc: 0.8276\n",
      "Epoch 11/9999\n",
      "303/303 [==============================] - 1s 3ms/step - loss: 0.6574 - acc: 0.7814 - val_loss: 0.5312 - val_acc: 0.8233\n",
      "Epoch 12/9999\n",
      "303/303 [==============================] - 1s 3ms/step - loss: 0.6341 - acc: 0.7899 - val_loss: 0.5061 - val_acc: 0.8371\n",
      "Epoch 13/9999\n",
      "303/303 [==============================] - 1s 3ms/step - loss: 0.6192 - acc: 0.7939 - val_loss: 0.5129 - val_acc: 0.8362\n",
      "Epoch 14/9999\n",
      "303/303 [==============================] - 1s 3ms/step - loss: 0.6077 - acc: 0.7984 - val_loss: 0.4835 - val_acc: 0.8418\n",
      "Epoch 15/9999\n",
      "303/303 [==============================] - 1s 3ms/step - loss: 0.5952 - acc: 0.8014 - val_loss: 0.4718 - val_acc: 0.8515\n",
      "Epoch 16/9999\n",
      "303/303 [==============================] - 1s 3ms/step - loss: 0.5781 - acc: 0.8080 - val_loss: 0.4725 - val_acc: 0.8469\n",
      "Epoch 17/9999\n",
      "303/303 [==============================] - 1s 3ms/step - loss: 0.5721 - acc: 0.8112 - val_loss: 0.4629 - val_acc: 0.8513\n",
      "Epoch 18/9999\n",
      "303/303 [==============================] - 1s 3ms/step - loss: 0.5630 - acc: 0.8125 - val_loss: 0.4455 - val_acc: 0.8570\n",
      "Epoch 19/9999\n",
      "303/303 [==============================] - 1s 3ms/step - loss: 0.5488 - acc: 0.8174 - val_loss: 0.4562 - val_acc: 0.8548\n",
      "Epoch 20/9999\n",
      "303/303 [==============================] - 1s 3ms/step - loss: 0.5369 - acc: 0.8212 - val_loss: 0.4522 - val_acc: 0.8568\n",
      "Epoch 21/9999\n",
      "303/303 [==============================] - 1s 3ms/step - loss: 0.5289 - acc: 0.8233 - val_loss: 0.4562 - val_acc: 0.8548\n",
      "Epoch 22/9999\n",
      "303/303 [==============================] - 1s 3ms/step - loss: 0.5183 - acc: 0.8287 - val_loss: 0.4298 - val_acc: 0.8647\n",
      "Epoch 23/9999\n",
      "303/303 [==============================] - 1s 3ms/step - loss: 0.5112 - acc: 0.8294 - val_loss: 0.4259 - val_acc: 0.8663\n",
      "Epoch 24/9999\n",
      "303/303 [==============================] - 1s 3ms/step - loss: 0.5071 - acc: 0.8331 - val_loss: 0.4189 - val_acc: 0.8662\n",
      "Epoch 25/9999\n",
      "303/303 [==============================] - 1s 3ms/step - loss: 0.4963 - acc: 0.8344 - val_loss: 0.4301 - val_acc: 0.8645\n",
      "Epoch 26/9999\n",
      "303/303 [==============================] - 1s 3ms/step - loss: 0.4893 - acc: 0.8367 - val_loss: 0.4179 - val_acc: 0.8670\n",
      "Epoch 27/9999\n",
      "303/303 [==============================] - 1s 3ms/step - loss: 0.4788 - acc: 0.8408 - val_loss: 0.4325 - val_acc: 0.8645\n",
      "Epoch 28/9999\n",
      "303/303 [==============================] - 1s 3ms/step - loss: 0.4795 - acc: 0.8402 - val_loss: 0.4101 - val_acc: 0.8701\n",
      "Epoch 29/9999\n",
      "303/303 [==============================] - 1s 3ms/step - loss: 0.4686 - acc: 0.8437 - val_loss: 0.4066 - val_acc: 0.8721\n",
      "Epoch 30/9999\n",
      "303/303 [==============================] - 1s 3ms/step - loss: 0.4673 - acc: 0.8451 - val_loss: 0.3994 - val_acc: 0.8728\n",
      "Epoch 31/9999\n",
      "303/303 [==============================] - 1s 3ms/step - loss: 0.4555 - acc: 0.8459 - val_loss: 0.4239 - val_acc: 0.8680\n",
      "Epoch 32/9999\n",
      "303/303 [==============================] - 1s 3ms/step - loss: 0.4538 - acc: 0.8474 - val_loss: 0.3977 - val_acc: 0.8740\n",
      "Epoch 33/9999\n",
      "303/303 [==============================] - 1s 3ms/step - loss: 0.4500 - acc: 0.8489 - val_loss: 0.4013 - val_acc: 0.8757\n",
      "Epoch 34/9999\n",
      "303/303 [==============================] - 1s 3ms/step - loss: 0.4468 - acc: 0.8501 - val_loss: 0.4002 - val_acc: 0.8735\n",
      "Epoch 35/9999\n",
      "303/303 [==============================] - 1s 3ms/step - loss: 0.4363 - acc: 0.8547 - val_loss: 0.3913 - val_acc: 0.8778\n",
      "Epoch 36/9999\n",
      "303/303 [==============================] - 1s 3ms/step - loss: 0.4330 - acc: 0.8541 - val_loss: 0.4121 - val_acc: 0.8721\n",
      "Epoch 37/9999\n",
      "303/303 [==============================] - 1s 3ms/step - loss: 0.4325 - acc: 0.8551 - val_loss: 0.3979 - val_acc: 0.8772\n",
      "Epoch 38/9999\n",
      "303/303 [==============================] - 1s 3ms/step - loss: 0.4276 - acc: 0.8555 - val_loss: 0.4132 - val_acc: 0.8731\n",
      "Epoch 39/9999\n",
      "303/303 [==============================] - 1s 3ms/step - loss: 0.4223 - acc: 0.8587 - val_loss: 0.3973 - val_acc: 0.8767\n",
      "Epoch 40/9999\n",
      "303/303 [==============================] - 1s 3ms/step - loss: 0.4212 - acc: 0.8581 - val_loss: 0.3986 - val_acc: 0.8771\n",
      "Epoch 41/9999\n",
      "303/303 [==============================] - 1s 3ms/step - loss: 0.4242 - acc: 0.8570 - val_loss: 0.3911 - val_acc: 0.8775\n",
      "Epoch 42/9999\n",
      "303/303 [==============================] - 1s 3ms/step - loss: 0.4167 - acc: 0.8597 - val_loss: 0.3856 - val_acc: 0.8784\n",
      "Epoch 43/9999\n",
      "303/303 [==============================] - 1s 3ms/step - loss: 0.4105 - acc: 0.8608 - val_loss: 0.3944 - val_acc: 0.8793\n",
      "Epoch 44/9999\n",
      "303/303 [==============================] - 1s 3ms/step - loss: 0.4077 - acc: 0.8617 - val_loss: 0.3956 - val_acc: 0.8784\n",
      "Epoch 45/9999\n",
      "303/303 [==============================] - 1s 3ms/step - loss: 0.4084 - acc: 0.8624 - val_loss: 0.3995 - val_acc: 0.8752\n",
      "Epoch 46/9999\n",
      "303/303 [==============================] - 1s 3ms/step - loss: 0.4005 - acc: 0.8644 - val_loss: 0.3984 - val_acc: 0.8800\n",
      "Epoch 47/9999\n",
      "303/303 [==============================] - 1s 3ms/step - loss: 0.4056 - acc: 0.8618 - val_loss: 0.3972 - val_acc: 0.8772\n",
      "Epoch 48/9999\n",
      "303/303 [==============================] - 1s 3ms/step - loss: 0.3988 - acc: 0.8651 - val_loss: 0.3977 - val_acc: 0.8807\n",
      "Epoch 49/9999\n",
      "303/303 [==============================] - 1s 3ms/step - loss: 0.3978 - acc: 0.8650 - val_loss: 0.3863 - val_acc: 0.8790\n",
      "Epoch 50/9999\n",
      "303/303 [==============================] - 1s 3ms/step - loss: 0.3970 - acc: 0.8638 - val_loss: 0.4062 - val_acc: 0.8780\n",
      "Epoch 51/9999\n",
      "303/303 [==============================] - 1s 3ms/step - loss: 0.3935 - acc: 0.8653 - val_loss: 0.3951 - val_acc: 0.8771\n",
      "Epoch 52/9999\n",
      "303/303 [==============================] - 1s 3ms/step - loss: 0.3920 - acc: 0.8664 - val_loss: 0.3979 - val_acc: 0.8781\n",
      "Test loss: 0.3788757622241974\n",
      "Test accuracy: 0.8858768939971924\n"
     ]
    }
   ],
   "source": [
    "cnn_model2 = models.Sequential()\n",
    "cnn_model2.add(layers.Conv2D(32, (2, 2), activation='relu',input_shape=(16,16,1)))\n",
    "cnn_model2.add(layers.MaxPooling2D(pool_size=(2, 2)))\n",
    "cnn_model2.add(layers.Conv2D(64, (2, 2), activation='relu'))\n",
    "cnn_model2.add(layers.MaxPooling2D(pool_size=(2, 2)))\n",
    "cnn_model2.add(layers.Flatten())\n",
    "cnn_model2.add(layers.Dense(64, activation='relu'))\n",
    "cnn_model2.add(layers.Dropout(0.5))\n",
    "cnn_model2.add(layers.Dense(13, activation='softmax'))\n",
    "cnn_model2.summary()\n",
    "# Add training parameters to model\n",
    "cnn_model2.compile(loss='categorical_crossentropy', optimizer='adam', metrics=['acc'])\n",
    "es = EarlyStopping(patience = 10, monitor='val_loss')\n",
    "mc_cnn2 = ModelCheckpoint('best_model_cnn2.h5', monitor='val_loss')\n",
    "# Train\n",
    "history_cnn2 = cnn_model2.fit(x_train, \n",
    "                    y_train, \n",
    "                    epochs=9999, \n",
    "                    batch_size=256, \n",
    "                    validation_data=(x_val, y_val),\n",
    "                    callbacks = [es,mc_cnn2])\n",
    "test_eval2 = cnn_model2.evaluate(x_test, y_test, verbose=0)\n",
    "print('Test loss:', test_eval2[0])\n",
    "print('Test accuracy:', test_eval2[1])"
   ]
  },
  {
   "cell_type": "code",
   "execution_count": 73,
   "metadata": {},
   "outputs": [
    {
     "name": "stdout",
     "output_type": "stream",
     "text": [
      "Model: \"sequential_5\"\n",
      "_________________________________________________________________\n",
      "Layer (type)                 Output Shape              Param #   \n",
      "=================================================================\n",
      "conv2d_5 (Conv2D)            (None, 15, 15, 32)        160       \n",
      "_________________________________________________________________\n",
      "max_pooling2d_5 (MaxPooling2 (None, 7, 7, 32)          0         \n",
      "_________________________________________________________________\n",
      "conv2d_6 (Conv2D)            (None, 6, 6, 64)          8256      \n",
      "_________________________________________________________________\n",
      "max_pooling2d_6 (MaxPooling2 (None, 3, 3, 64)          0         \n",
      "_________________________________________________________________\n",
      "conv2d_7 (Conv2D)            (None, 2, 2, 128)         32896     \n",
      "_________________________________________________________________\n",
      "max_pooling2d_7 (MaxPooling2 (None, 1, 1, 128)         0         \n",
      "_________________________________________________________________\n",
      "flatten_3 (Flatten)          (None, 128)               0         \n",
      "_________________________________________________________________\n",
      "dense_10 (Dense)             (None, 64)                8256      \n",
      "_________________________________________________________________\n",
      "dropout_3 (Dropout)          (None, 64)                0         \n",
      "_________________________________________________________________\n",
      "dense_11 (Dense)             (None, 13)                845       \n",
      "=================================================================\n",
      "Total params: 50,413\n",
      "Trainable params: 50,413\n",
      "Non-trainable params: 0\n",
      "_________________________________________________________________\n",
      "Epoch 1/9999\n",
      "303/303 [==============================] - 1s 5ms/step - loss: 1.4395 - acc: 0.6098 - val_loss: 0.9871 - val_acc: 0.6853\n",
      "Epoch 2/9999\n",
      "303/303 [==============================] - 1s 4ms/step - loss: 0.9915 - acc: 0.6894 - val_loss: 0.7349 - val_acc: 0.7711\n",
      "Epoch 3/9999\n",
      "303/303 [==============================] - 1s 4ms/step - loss: 0.8221 - acc: 0.7393 - val_loss: 0.6369 - val_acc: 0.7961\n",
      "Epoch 4/9999\n",
      "303/303 [==============================] - 1s 4ms/step - loss: 0.7246 - acc: 0.7705 - val_loss: 0.5817 - val_acc: 0.8130\n",
      "Epoch 5/9999\n",
      "303/303 [==============================] - 1s 4ms/step - loss: 0.6658 - acc: 0.7881 - val_loss: 0.5464 - val_acc: 0.8224\n",
      "Epoch 6/9999\n",
      "303/303 [==============================] - 1s 4ms/step - loss: 0.6165 - acc: 0.8053 - val_loss: 0.5194 - val_acc: 0.8292\n",
      "Epoch 7/9999\n",
      "303/303 [==============================] - 1s 4ms/step - loss: 0.5814 - acc: 0.8150 - val_loss: 0.5136 - val_acc: 0.8310\n",
      "Epoch 8/9999\n",
      "303/303 [==============================] - 1s 4ms/step - loss: 0.5418 - acc: 0.8281 - val_loss: 0.4668 - val_acc: 0.8490\n",
      "Epoch 9/9999\n",
      "303/303 [==============================] - 1s 4ms/step - loss: 0.5144 - acc: 0.8371 - val_loss: 0.4664 - val_acc: 0.8491\n",
      "Epoch 10/9999\n",
      "303/303 [==============================] - 1s 4ms/step - loss: 0.4845 - acc: 0.8459 - val_loss: 0.4332 - val_acc: 0.8584\n",
      "Epoch 11/9999\n",
      "303/303 [==============================] - 1s 4ms/step - loss: 0.4638 - acc: 0.8516 - val_loss: 0.4385 - val_acc: 0.8580\n",
      "Epoch 12/9999\n",
      "303/303 [==============================] - 1s 4ms/step - loss: 0.4433 - acc: 0.8589 - val_loss: 0.4032 - val_acc: 0.8718\n",
      "Epoch 13/9999\n",
      "303/303 [==============================] - 1s 4ms/step - loss: 0.4221 - acc: 0.8638 - val_loss: 0.4102 - val_acc: 0.8705\n",
      "Epoch 14/9999\n",
      "303/303 [==============================] - 1s 4ms/step - loss: 0.4054 - acc: 0.8708 - val_loss: 0.4019 - val_acc: 0.8718\n",
      "Epoch 15/9999\n",
      "303/303 [==============================] - 1s 4ms/step - loss: 0.3928 - acc: 0.8747 - val_loss: 0.4294 - val_acc: 0.8686\n",
      "Epoch 16/9999\n",
      "303/303 [==============================] - 1s 4ms/step - loss: 0.3821 - acc: 0.8773 - val_loss: 0.3881 - val_acc: 0.8739\n",
      "Epoch 17/9999\n",
      "303/303 [==============================] - 1s 4ms/step - loss: 0.3661 - acc: 0.8824 - val_loss: 0.3798 - val_acc: 0.8803\n",
      "Epoch 18/9999\n",
      "303/303 [==============================] - 1s 4ms/step - loss: 0.3578 - acc: 0.8852 - val_loss: 0.3990 - val_acc: 0.8762\n",
      "Epoch 19/9999\n",
      "303/303 [==============================] - 1s 4ms/step - loss: 0.3429 - acc: 0.8900 - val_loss: 0.3998 - val_acc: 0.8784\n",
      "Epoch 20/9999\n",
      "303/303 [==============================] - 1s 4ms/step - loss: 0.3385 - acc: 0.8923 - val_loss: 0.3960 - val_acc: 0.8784\n",
      "Epoch 21/9999\n",
      "303/303 [==============================] - 1s 4ms/step - loss: 0.3293 - acc: 0.8933 - val_loss: 0.3875 - val_acc: 0.8825\n",
      "Epoch 22/9999\n",
      "303/303 [==============================] - 1s 4ms/step - loss: 0.3208 - acc: 0.8965 - val_loss: 0.3757 - val_acc: 0.8833\n",
      "Epoch 23/9999\n",
      "303/303 [==============================] - 1s 4ms/step - loss: 0.3113 - acc: 0.8992 - val_loss: 0.3748 - val_acc: 0.8840\n",
      "Epoch 24/9999\n",
      "303/303 [==============================] - 1s 4ms/step - loss: 0.3068 - acc: 0.9007 - val_loss: 0.3836 - val_acc: 0.8843\n",
      "Epoch 25/9999\n",
      "303/303 [==============================] - 1s 4ms/step - loss: 0.3028 - acc: 0.9025 - val_loss: 0.3872 - val_acc: 0.8861\n",
      "Epoch 26/9999\n",
      "303/303 [==============================] - 1s 4ms/step - loss: 0.2930 - acc: 0.9051 - val_loss: 0.3726 - val_acc: 0.8876\n",
      "Epoch 27/9999\n",
      "303/303 [==============================] - 1s 4ms/step - loss: 0.2886 - acc: 0.9067 - val_loss: 0.3754 - val_acc: 0.8870\n",
      "Epoch 28/9999\n",
      "303/303 [==============================] - 1s 4ms/step - loss: 0.2804 - acc: 0.9071 - val_loss: 0.3745 - val_acc: 0.8872\n",
      "Epoch 29/9999\n",
      "303/303 [==============================] - 1s 4ms/step - loss: 0.2711 - acc: 0.9123 - val_loss: 0.3854 - val_acc: 0.8907\n",
      "Epoch 30/9999\n",
      "303/303 [==============================] - 1s 4ms/step - loss: 0.2669 - acc: 0.9128 - val_loss: 0.4010 - val_acc: 0.8885\n",
      "Epoch 31/9999\n",
      "303/303 [==============================] - 1s 4ms/step - loss: 0.2664 - acc: 0.9136 - val_loss: 0.3911 - val_acc: 0.8893\n",
      "Epoch 32/9999\n",
      "303/303 [==============================] - 1s 4ms/step - loss: 0.2552 - acc: 0.9178 - val_loss: 0.3998 - val_acc: 0.8844\n",
      "Epoch 33/9999\n",
      "303/303 [==============================] - 1s 4ms/step - loss: 0.2510 - acc: 0.9164 - val_loss: 0.3825 - val_acc: 0.8876\n",
      "Epoch 34/9999\n",
      "303/303 [==============================] - 1s 4ms/step - loss: 0.2462 - acc: 0.9181 - val_loss: 0.3886 - val_acc: 0.8900\n",
      "Epoch 35/9999\n",
      "303/303 [==============================] - 1s 4ms/step - loss: 0.2423 - acc: 0.9204 - val_loss: 0.3847 - val_acc: 0.8902\n",
      "Epoch 36/9999\n",
      "303/303 [==============================] - 1s 4ms/step - loss: 0.2399 - acc: 0.9210 - val_loss: 0.3918 - val_acc: 0.8903\n",
      "Test loss: 0.3609801232814789\n",
      "Test accuracy: 0.8968442678451538\n"
     ]
    }
   ],
   "source": [
    "cnn_model3 = models.Sequential()\n",
    "cnn_model3.add(layers.Conv2D(32, (2, 2), activation='relu',input_shape=(16,16,1)))\n",
    "cnn_model3.add(layers.MaxPooling2D(pool_size=(2, 2)))\n",
    "cnn_model3.add(layers.Conv2D(64, (2, 2), activation='relu'))\n",
    "cnn_model3.add(layers.MaxPooling2D(pool_size=(2, 2)))\n",
    "cnn_model3.add(layers.Conv2D(128, (2, 2), activation='relu'))\n",
    "cnn_model3.add(layers.MaxPooling2D(pool_size=(2, 2)))\n",
    "cnn_model3.add(layers.Flatten())\n",
    "cnn_model3.add(layers.Dense(64, activation='relu'))\n",
    "cnn_model3.add(layers.Dropout(0.5))\n",
    "cnn_model3.add(layers.Dense(13, activation='softmax'))\n",
    "cnn_model3.summary()\n",
    "# Add training parameters to model\n",
    "cnn_model3.compile(loss='categorical_crossentropy', optimizer='adam', metrics=['acc'])\n",
    "es = EarlyStopping(patience = 10, monitor='val_loss')\n",
    "mc_cnn3 = ModelCheckpoint('best_model_cnn3.h5', monitor='val_loss')\n",
    "# Train\n",
    "history_cnn3 = cnn_model3.fit(x_train, \n",
    "                    y_train, \n",
    "                    epochs=9999, \n",
    "                    batch_size=256, \n",
    "                    validation_data=(x_val, y_val),\n",
    "                    callbacks = [es,mc_cnn3])\n",
    "test_eval3 = cnn_model3.evaluate(x_test, y_test, verbose=0)\n",
    "print('Test loss:', test_eval3[0])\n",
    "print('Test accuracy:', test_eval3[1])"
   ]
  },
  {
   "cell_type": "code",
   "execution_count": 82,
   "metadata": {},
   "outputs": [
    {
     "data": {
      "image/png": "[encoded data removed]",
      "text/plain": [
       "<Figure size 504x432 with 1 Axes>"
      ]
     },
     "metadata": {
      "needs_background": "light"
     },
     "output_type": "display_data"
    }
   ],
   "source": [
    "index = [1,2,3,4,5]\n",
    "plt.figure(figsize = (7,6))\n",
    "plt.plot(index, [0.7304,0.8858,0.8851,0.8650,0.8567], label='Test accuracy')\n",
    "plt.title('Test accuracy on addtion conv+pool layers')\n",
    "plt.xlabel('Convolution+pool layers layers', fontsize=12)\n",
    "plt.ylabel('Test accuracy', fontsize=12)\n",
    "plt.legend()\n",
    "plt.xticks(index)\n",
    "plt.grid()\n",
    "plt.show()"
   ]
  },
  {
   "cell_type": "code",
   "execution_count": null,
   "metadata": {},
   "outputs": [],
   "source": []
  }
 ],
 "metadata": {
  "kernelspec": {
   "display_name": "Python 3",
   "language": "python",
   "name": "python3"
  },
  "language_info": {
   "codemirror_mode": {
    "name": "ipython",
    "version": 3
   },
   "file_extension": ".py",
   "mimetype": "text/x-python",
   "name": "python",
   "nbconvert_exporter": "python",
   "pygments_lexer": "ipython3",
   "version": "3.8.8"
  }
 },
 "nbformat": 4,
 "nbformat_minor": 4
}
